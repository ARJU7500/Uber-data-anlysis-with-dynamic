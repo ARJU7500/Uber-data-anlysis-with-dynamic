{
 "cells": [
  {
   "cell_type": "markdown",
   "id": "7277f4d1",
   "metadata": {},
   "source": [
    "import libraray"
   ]
  },
  {
   "cell_type": "code",
   "execution_count": 70,
   "id": "14438856",
   "metadata": {},
   "outputs": [],
   "source": [
    "import pandas as pd\n",
    "import plotly.express as px\n",
    "import plotly.graph_objects as go \n",
    "import plotly.io as pio\n",
    "import plotly.colors as colors\n",
    "pio.templates.default=\"plotly_white\""
   ]
  },
  {
   "cell_type": "markdown",
   "id": "1b2ac155",
   "metadata": {},
   "source": [
    "read csv file\n"
   ]
  },
  {
   "cell_type": "code",
   "execution_count": 71,
   "id": "ff919acc",
   "metadata": {},
   "outputs": [],
   "source": [
    "data=pd.read_csv(\"UberDataset.csv\")"
   ]
  },
  {
   "cell_type": "code",
   "execution_count": 72,
   "id": "4ae27455",
   "metadata": {},
   "outputs": [
    {
     "data": {
      "text/html": [
       "<div>\n",
       "<style scoped>\n",
       "    .dataframe tbody tr th:only-of-type {\n",
       "        vertical-align: middle;\n",
       "    }\n",
       "\n",
       "    .dataframe tbody tr th {\n",
       "        vertical-align: top;\n",
       "    }\n",
       "\n",
       "    .dataframe thead th {\n",
       "        text-align: right;\n",
       "    }\n",
       "</style>\n",
       "<table border=\"1\" class=\"dataframe\">\n",
       "  <thead>\n",
       "    <tr style=\"text-align: right;\">\n",
       "      <th></th>\n",
       "      <th>START_DATE</th>\n",
       "      <th>END_DATE</th>\n",
       "      <th>CATEGORY</th>\n",
       "      <th>START</th>\n",
       "      <th>STOP</th>\n",
       "      <th>MILES</th>\n",
       "      <th>PURPOSE</th>\n",
       "    </tr>\n",
       "  </thead>\n",
       "  <tbody>\n",
       "    <tr>\n",
       "      <th>0</th>\n",
       "      <td>01-01-2016 21:11</td>\n",
       "      <td>01-01-2016 21:17</td>\n",
       "      <td>Business</td>\n",
       "      <td>Fort Pierce</td>\n",
       "      <td>Fort Pierce</td>\n",
       "      <td>5.1</td>\n",
       "      <td>Meal/Entertain</td>\n",
       "    </tr>\n",
       "    <tr>\n",
       "      <th>1</th>\n",
       "      <td>01-02-2016 01:25</td>\n",
       "      <td>01-02-2016 01:37</td>\n",
       "      <td>Business</td>\n",
       "      <td>Fort Pierce</td>\n",
       "      <td>Fort Pierce</td>\n",
       "      <td>5.0</td>\n",
       "      <td>NaN</td>\n",
       "    </tr>\n",
       "    <tr>\n",
       "      <th>2</th>\n",
       "      <td>01-02-2016 20:25</td>\n",
       "      <td>01-02-2016 20:38</td>\n",
       "      <td>Business</td>\n",
       "      <td>Fort Pierce</td>\n",
       "      <td>Fort Pierce</td>\n",
       "      <td>4.8</td>\n",
       "      <td>Errand/Supplies</td>\n",
       "    </tr>\n",
       "    <tr>\n",
       "      <th>3</th>\n",
       "      <td>01-05-2016 17:31</td>\n",
       "      <td>01-05-2016 17:45</td>\n",
       "      <td>Business</td>\n",
       "      <td>Fort Pierce</td>\n",
       "      <td>Fort Pierce</td>\n",
       "      <td>4.7</td>\n",
       "      <td>Meeting</td>\n",
       "    </tr>\n",
       "    <tr>\n",
       "      <th>4</th>\n",
       "      <td>01-06-2016 14:42</td>\n",
       "      <td>01-06-2016 15:49</td>\n",
       "      <td>Business</td>\n",
       "      <td>Fort Pierce</td>\n",
       "      <td>West Palm Beach</td>\n",
       "      <td>63.7</td>\n",
       "      <td>Customer Visit</td>\n",
       "    </tr>\n",
       "  </tbody>\n",
       "</table>\n",
       "</div>"
      ],
      "text/plain": [
       "         START_DATE          END_DATE  CATEGORY        START             STOP  \\\n",
       "0  01-01-2016 21:11  01-01-2016 21:17  Business  Fort Pierce      Fort Pierce   \n",
       "1  01-02-2016 01:25  01-02-2016 01:37  Business  Fort Pierce      Fort Pierce   \n",
       "2  01-02-2016 20:25  01-02-2016 20:38  Business  Fort Pierce      Fort Pierce   \n",
       "3  01-05-2016 17:31  01-05-2016 17:45  Business  Fort Pierce      Fort Pierce   \n",
       "4  01-06-2016 14:42  01-06-2016 15:49  Business  Fort Pierce  West Palm Beach   \n",
       "\n",
       "   MILES          PURPOSE  \n",
       "0    5.1   Meal/Entertain  \n",
       "1    5.0              NaN  \n",
       "2    4.8  Errand/Supplies  \n",
       "3    4.7          Meeting  \n",
       "4   63.7   Customer Visit  "
      ]
     },
     "execution_count": 72,
     "metadata": {},
     "output_type": "execute_result"
    }
   ],
   "source": [
    "data.head()"
   ]
  },
  {
   "cell_type": "markdown",
   "id": "f62bd081",
   "metadata": {},
   "source": [
    "basic statics "
   ]
  },
  {
   "cell_type": "code",
   "execution_count": 73,
   "id": "9931e456",
   "metadata": {},
   "outputs": [
    {
     "data": {
      "text/html": [
       "<div>\n",
       "<style scoped>\n",
       "    .dataframe tbody tr th:only-of-type {\n",
       "        vertical-align: middle;\n",
       "    }\n",
       "\n",
       "    .dataframe tbody tr th {\n",
       "        vertical-align: top;\n",
       "    }\n",
       "\n",
       "    .dataframe thead th {\n",
       "        text-align: right;\n",
       "    }\n",
       "</style>\n",
       "<table border=\"1\" class=\"dataframe\">\n",
       "  <thead>\n",
       "    <tr style=\"text-align: right;\">\n",
       "      <th></th>\n",
       "      <th>MILES</th>\n",
       "    </tr>\n",
       "  </thead>\n",
       "  <tbody>\n",
       "    <tr>\n",
       "      <th>count</th>\n",
       "      <td>1156.000000</td>\n",
       "    </tr>\n",
       "    <tr>\n",
       "      <th>mean</th>\n",
       "      <td>21.115398</td>\n",
       "    </tr>\n",
       "    <tr>\n",
       "      <th>std</th>\n",
       "      <td>359.299007</td>\n",
       "    </tr>\n",
       "    <tr>\n",
       "      <th>min</th>\n",
       "      <td>0.500000</td>\n",
       "    </tr>\n",
       "    <tr>\n",
       "      <th>25%</th>\n",
       "      <td>2.900000</td>\n",
       "    </tr>\n",
       "    <tr>\n",
       "      <th>50%</th>\n",
       "      <td>6.000000</td>\n",
       "    </tr>\n",
       "    <tr>\n",
       "      <th>75%</th>\n",
       "      <td>10.400000</td>\n",
       "    </tr>\n",
       "    <tr>\n",
       "      <th>max</th>\n",
       "      <td>12204.700000</td>\n",
       "    </tr>\n",
       "  </tbody>\n",
       "</table>\n",
       "</div>"
      ],
      "text/plain": [
       "              MILES\n",
       "count   1156.000000\n",
       "mean      21.115398\n",
       "std      359.299007\n",
       "min        0.500000\n",
       "25%        2.900000\n",
       "50%        6.000000\n",
       "75%       10.400000\n",
       "max    12204.700000"
      ]
     },
     "execution_count": 73,
     "metadata": {},
     "output_type": "execute_result"
    }
   ],
   "source": [
    "data.describe()"
   ]
  },
  {
   "cell_type": "code",
   "execution_count": 74,
   "id": "d938abc3",
   "metadata": {},
   "outputs": [
    {
     "name": "stdout",
     "output_type": "stream",
     "text": [
      "<class 'pandas.core.frame.DataFrame'>\n",
      "RangeIndex: 1156 entries, 0 to 1155\n",
      "Data columns (total 7 columns):\n",
      " #   Column      Non-Null Count  Dtype  \n",
      "---  ------      --------------  -----  \n",
      " 0   START_DATE  1156 non-null   object \n",
      " 1   END_DATE    1155 non-null   object \n",
      " 2   CATEGORY    1155 non-null   object \n",
      " 3   START       1155 non-null   object \n",
      " 4   STOP        1155 non-null   object \n",
      " 5   MILES       1156 non-null   float64\n",
      " 6   PURPOSE     653 non-null    object \n",
      "dtypes: float64(1), object(6)\n",
      "memory usage: 63.3+ KB\n"
     ]
    }
   ],
   "source": [
    "data.info()"
   ]
  },
  {
   "cell_type": "markdown",
   "id": "5a38010c",
   "metadata": {},
   "source": [
    "now after read data from csv file we need some modification in my datasheet\n",
    "\n",
    "1. we have seen start_date and end_date dtype is wrong its dtype is datetime we need to change datatype as datetime\n",
    "\n",
    "2. purpose have NaN value present which is not good for analysis so we need to change nan to not"
   ]
  },
  {
   "cell_type": "code",
   "execution_count": 75,
   "id": "be0d2c01",
   "metadata": {},
   "outputs": [],
   "source": [
    "data['START_DATE']=pd.to_datetime(data['START_DATE'],errors='coerce')\n",
    "data['END_DATE']=pd.to_datetime(data['END_DATE'],errors='coerce')"
   ]
  },
  {
   "cell_type": "code",
   "execution_count": 76,
   "id": "2b4503ef",
   "metadata": {},
   "outputs": [
    {
     "name": "stdout",
     "output_type": "stream",
     "text": [
      "<class 'pandas.core.frame.DataFrame'>\n",
      "RangeIndex: 1156 entries, 0 to 1155\n",
      "Data columns (total 7 columns):\n",
      " #   Column      Non-Null Count  Dtype         \n",
      "---  ------      --------------  -----         \n",
      " 0   START_DATE  421 non-null    datetime64[ns]\n",
      " 1   END_DATE    420 non-null    datetime64[ns]\n",
      " 2   CATEGORY    1155 non-null   object        \n",
      " 3   START       1155 non-null   object        \n",
      " 4   STOP        1155 non-null   object        \n",
      " 5   MILES       1156 non-null   float64       \n",
      " 6   PURPOSE     653 non-null    object        \n",
      "dtypes: datetime64[ns](2), float64(1), object(4)\n",
      "memory usage: 63.3+ KB\n"
     ]
    }
   ],
   "source": [
    "data.info()"
   ]
  },
  {
   "cell_type": "code",
   "execution_count": 77,
   "id": "a79ef51c",
   "metadata": {},
   "outputs": [
    {
     "name": "stderr",
     "output_type": "stream",
     "text": [
      "C:\\Users\\an096\\AppData\\Local\\Temp\\ipykernel_17296\\3691704628.py:1: FutureWarning:\n",
      "\n",
      "A value is trying to be set on a copy of a DataFrame or Series through chained assignment using an inplace method.\n",
      "The behavior will change in pandas 3.0. This inplace method will never work because the intermediate object on which we are setting values always behaves as a copy.\n",
      "\n",
      "For example, when doing 'df[col].method(value, inplace=True)', try using 'df.method({col: value}, inplace=True)' or df[col] = df[col].method(value) instead, to perform the operation inplace on the original object.\n",
      "\n",
      "\n",
      "\n"
     ]
    }
   ],
   "source": [
    "data['PURPOSE'].fillna('not', inplace=True)"
   ]
  },
  {
   "cell_type": "code",
   "execution_count": 78,
   "id": "3fe7c2a0",
   "metadata": {},
   "outputs": [
    {
     "data": {
      "text/html": [
       "<div>\n",
       "<style scoped>\n",
       "    .dataframe tbody tr th:only-of-type {\n",
       "        vertical-align: middle;\n",
       "    }\n",
       "\n",
       "    .dataframe tbody tr th {\n",
       "        vertical-align: top;\n",
       "    }\n",
       "\n",
       "    .dataframe thead th {\n",
       "        text-align: right;\n",
       "    }\n",
       "</style>\n",
       "<table border=\"1\" class=\"dataframe\">\n",
       "  <thead>\n",
       "    <tr style=\"text-align: right;\">\n",
       "      <th></th>\n",
       "      <th>START_DATE</th>\n",
       "      <th>END_DATE</th>\n",
       "      <th>CATEGORY</th>\n",
       "      <th>START</th>\n",
       "      <th>STOP</th>\n",
       "      <th>MILES</th>\n",
       "      <th>PURPOSE</th>\n",
       "    </tr>\n",
       "  </thead>\n",
       "  <tbody>\n",
       "    <tr>\n",
       "      <th>0</th>\n",
       "      <td>2016-01-01 21:11:00</td>\n",
       "      <td>2016-01-01 21:17:00</td>\n",
       "      <td>Business</td>\n",
       "      <td>Fort Pierce</td>\n",
       "      <td>Fort Pierce</td>\n",
       "      <td>5.1</td>\n",
       "      <td>Meal/Entertain</td>\n",
       "    </tr>\n",
       "    <tr>\n",
       "      <th>1</th>\n",
       "      <td>2016-01-02 01:25:00</td>\n",
       "      <td>2016-01-02 01:37:00</td>\n",
       "      <td>Business</td>\n",
       "      <td>Fort Pierce</td>\n",
       "      <td>Fort Pierce</td>\n",
       "      <td>5.0</td>\n",
       "      <td>not</td>\n",
       "    </tr>\n",
       "    <tr>\n",
       "      <th>2</th>\n",
       "      <td>2016-01-02 20:25:00</td>\n",
       "      <td>2016-01-02 20:38:00</td>\n",
       "      <td>Business</td>\n",
       "      <td>Fort Pierce</td>\n",
       "      <td>Fort Pierce</td>\n",
       "      <td>4.8</td>\n",
       "      <td>Errand/Supplies</td>\n",
       "    </tr>\n",
       "    <tr>\n",
       "      <th>3</th>\n",
       "      <td>2016-01-05 17:31:00</td>\n",
       "      <td>2016-01-05 17:45:00</td>\n",
       "      <td>Business</td>\n",
       "      <td>Fort Pierce</td>\n",
       "      <td>Fort Pierce</td>\n",
       "      <td>4.7</td>\n",
       "      <td>Meeting</td>\n",
       "    </tr>\n",
       "    <tr>\n",
       "      <th>4</th>\n",
       "      <td>2016-01-06 14:42:00</td>\n",
       "      <td>2016-01-06 15:49:00</td>\n",
       "      <td>Business</td>\n",
       "      <td>Fort Pierce</td>\n",
       "      <td>West Palm Beach</td>\n",
       "      <td>63.7</td>\n",
       "      <td>Customer Visit</td>\n",
       "    </tr>\n",
       "  </tbody>\n",
       "</table>\n",
       "</div>"
      ],
      "text/plain": [
       "           START_DATE            END_DATE  CATEGORY        START  \\\n",
       "0 2016-01-01 21:11:00 2016-01-01 21:17:00  Business  Fort Pierce   \n",
       "1 2016-01-02 01:25:00 2016-01-02 01:37:00  Business  Fort Pierce   \n",
       "2 2016-01-02 20:25:00 2016-01-02 20:38:00  Business  Fort Pierce   \n",
       "3 2016-01-05 17:31:00 2016-01-05 17:45:00  Business  Fort Pierce   \n",
       "4 2016-01-06 14:42:00 2016-01-06 15:49:00  Business  Fort Pierce   \n",
       "\n",
       "              STOP  MILES          PURPOSE  \n",
       "0      Fort Pierce    5.1   Meal/Entertain  \n",
       "1      Fort Pierce    5.0              not  \n",
       "2      Fort Pierce    4.8  Errand/Supplies  \n",
       "3      Fort Pierce    4.7          Meeting  \n",
       "4  West Palm Beach   63.7   Customer Visit  "
      ]
     },
     "execution_count": 78,
     "metadata": {},
     "output_type": "execute_result"
    }
   ],
   "source": [
    "data.head()"
   ]
  },
  {
   "cell_type": "code",
   "execution_count": 79,
   "id": "747a9178",
   "metadata": {},
   "outputs": [
    {
     "name": "stdout",
     "output_type": "stream",
     "text": [
      "<class 'pandas.core.frame.DataFrame'>\n",
      "RangeIndex: 1156 entries, 0 to 1155\n",
      "Data columns (total 7 columns):\n",
      " #   Column      Non-Null Count  Dtype         \n",
      "---  ------      --------------  -----         \n",
      " 0   START_DATE  421 non-null    datetime64[ns]\n",
      " 1   END_DATE    420 non-null    datetime64[ns]\n",
      " 2   CATEGORY    1155 non-null   object        \n",
      " 3   START       1155 non-null   object        \n",
      " 4   STOP        1155 non-null   object        \n",
      " 5   MILES       1156 non-null   float64       \n",
      " 6   PURPOSE     1156 non-null   object        \n",
      "dtypes: datetime64[ns](2), float64(1), object(4)\n",
      "memory usage: 63.3+ KB\n"
     ]
    }
   ],
   "source": [
    "data.info()"
   ]
  },
  {
   "cell_type": "markdown",
   "id": "f8f704e3",
   "metadata": {},
   "source": [
    "i have some question\n",
    "\n",
    "Q1. In which category do people book the most uber rides.\n",
    "\n",
    "Q2. For which purpose do people book uber rides the most?\n",
    "\n",
    "Q3. At what time do people book cabs the most from uber?\n",
    "\n",
    "Q4. in which month do people book uber rides less frequently.\n",
    "\n",
    "Q5. on which days of the week do people book uber rides the most?\n",
    "\n",
    "Q6. how many miles do people usually book a cab for through uber?"
   ]
  },
  {
   "cell_type": "markdown",
   "id": "b192d2c6",
   "metadata": {},
   "source": [
    "as per my all 6 question we need to some column for to analysis data properly\n",
    "1. according Q1 i have CATEGORY column avalible for analysis\n",
    "\n",
    "2. according Q2 PURPOSE column i have avalible for data anlysis\n",
    "\n",
    "3. according Q3 we need 'time' column where i show morning,afternoon,evening and night which is take from satart_time column time\n",
    "\n",
    "4. according Q4 we need 'month' column where i show month name jan,fab,mar,...etc which take from start date month\n",
    "\n",
    "5. according Q5 we need day of 'day' where i show week name sunday, monday,tuesday,...etc from start_date column\n",
    "\n",
    "6. according Q6 we have column miles avalible for analysis."
   ]
  },
  {
   "cell_type": "markdown",
   "id": "70d0713e",
   "metadata": {},
   "source": [
    "we need add requirements according to Q3,Q4,Q5 in our data sheet"
   ]
  },
  {
   "cell_type": "markdown",
   "id": "7823eb71",
   "metadata": {},
   "source": [
    "1. add time column"
   ]
  },
  {
   "cell_type": "code",
   "execution_count": 80,
   "id": "3fa00506",
   "metadata": {},
   "outputs": [],
   "source": [
    "bins=[0,6,12,17,22,24]\n",
    "labels=['Late Night','Morning','Afternoon','Evening','Night']\n",
    "data['Time']=pd.cut(data['START_DATE'].dt.hour,bins=bins,labels=labels, right=False)"
   ]
  },
  {
   "cell_type": "markdown",
   "id": "1907872c",
   "metadata": {},
   "source": [
    "2. add 2 column month and day"
   ]
  },
  {
   "cell_type": "code",
   "execution_count": 81,
   "id": "d1ed9f44",
   "metadata": {},
   "outputs": [],
   "source": [
    "data['Month']=data['START_DATE'].dt.month_name()"
   ]
  },
  {
   "cell_type": "code",
   "execution_count": 82,
   "id": "23e0bd89",
   "metadata": {},
   "outputs": [],
   "source": [
    "data['day']=data['START_DATE'].dt.day_name()"
   ]
  },
  {
   "cell_type": "markdown",
   "id": "ec6710d1",
   "metadata": {},
   "source": [
    "drop all nan value from data"
   ]
  },
  {
   "cell_type": "code",
   "execution_count": 83,
   "id": "3c94dc8b",
   "metadata": {},
   "outputs": [],
   "source": [
    "data.dropna(inplace=True)"
   ]
  },
  {
   "cell_type": "code",
   "execution_count": 84,
   "id": "ffc329b9",
   "metadata": {},
   "outputs": [
    {
     "name": "stdout",
     "output_type": "stream",
     "text": [
      "<class 'pandas.core.frame.DataFrame'>\n",
      "Index: 420 entries, 0 to 1047\n",
      "Data columns (total 10 columns):\n",
      " #   Column      Non-Null Count  Dtype         \n",
      "---  ------      --------------  -----         \n",
      " 0   START_DATE  420 non-null    datetime64[ns]\n",
      " 1   END_DATE    420 non-null    datetime64[ns]\n",
      " 2   CATEGORY    420 non-null    object        \n",
      " 3   START       420 non-null    object        \n",
      " 4   STOP        420 non-null    object        \n",
      " 5   MILES       420 non-null    float64       \n",
      " 6   PURPOSE     420 non-null    object        \n",
      " 7   Time        420 non-null    category      \n",
      " 8   Month       420 non-null    object        \n",
      " 9   day         420 non-null    object        \n",
      "dtypes: category(1), datetime64[ns](2), float64(1), object(6)\n",
      "memory usage: 33.4+ KB\n"
     ]
    }
   ],
   "source": [
    "data.info()"
   ]
  },
  {
   "cell_type": "code",
   "execution_count": 85,
   "id": "54335192",
   "metadata": {},
   "outputs": [
    {
     "data": {
      "text/html": [
       "<div>\n",
       "<style scoped>\n",
       "    .dataframe tbody tr th:only-of-type {\n",
       "        vertical-align: middle;\n",
       "    }\n",
       "\n",
       "    .dataframe tbody tr th {\n",
       "        vertical-align: top;\n",
       "    }\n",
       "\n",
       "    .dataframe thead th {\n",
       "        text-align: right;\n",
       "    }\n",
       "</style>\n",
       "<table border=\"1\" class=\"dataframe\">\n",
       "  <thead>\n",
       "    <tr style=\"text-align: right;\">\n",
       "      <th></th>\n",
       "      <th>START_DATE</th>\n",
       "      <th>END_DATE</th>\n",
       "      <th>CATEGORY</th>\n",
       "      <th>START</th>\n",
       "      <th>STOP</th>\n",
       "      <th>MILES</th>\n",
       "      <th>PURPOSE</th>\n",
       "      <th>Time</th>\n",
       "      <th>Month</th>\n",
       "      <th>day</th>\n",
       "    </tr>\n",
       "  </thead>\n",
       "  <tbody>\n",
       "    <tr>\n",
       "      <th>0</th>\n",
       "      <td>2016-01-01 21:11:00</td>\n",
       "      <td>2016-01-01 21:17:00</td>\n",
       "      <td>Business</td>\n",
       "      <td>Fort Pierce</td>\n",
       "      <td>Fort Pierce</td>\n",
       "      <td>5.1</td>\n",
       "      <td>Meal/Entertain</td>\n",
       "      <td>Evening</td>\n",
       "      <td>January</td>\n",
       "      <td>Friday</td>\n",
       "    </tr>\n",
       "    <tr>\n",
       "      <th>1</th>\n",
       "      <td>2016-01-02 01:25:00</td>\n",
       "      <td>2016-01-02 01:37:00</td>\n",
       "      <td>Business</td>\n",
       "      <td>Fort Pierce</td>\n",
       "      <td>Fort Pierce</td>\n",
       "      <td>5.0</td>\n",
       "      <td>not</td>\n",
       "      <td>Late Night</td>\n",
       "      <td>January</td>\n",
       "      <td>Saturday</td>\n",
       "    </tr>\n",
       "    <tr>\n",
       "      <th>2</th>\n",
       "      <td>2016-01-02 20:25:00</td>\n",
       "      <td>2016-01-02 20:38:00</td>\n",
       "      <td>Business</td>\n",
       "      <td>Fort Pierce</td>\n",
       "      <td>Fort Pierce</td>\n",
       "      <td>4.8</td>\n",
       "      <td>Errand/Supplies</td>\n",
       "      <td>Evening</td>\n",
       "      <td>January</td>\n",
       "      <td>Saturday</td>\n",
       "    </tr>\n",
       "    <tr>\n",
       "      <th>3</th>\n",
       "      <td>2016-01-05 17:31:00</td>\n",
       "      <td>2016-01-05 17:45:00</td>\n",
       "      <td>Business</td>\n",
       "      <td>Fort Pierce</td>\n",
       "      <td>Fort Pierce</td>\n",
       "      <td>4.7</td>\n",
       "      <td>Meeting</td>\n",
       "      <td>Evening</td>\n",
       "      <td>January</td>\n",
       "      <td>Tuesday</td>\n",
       "    </tr>\n",
       "    <tr>\n",
       "      <th>4</th>\n",
       "      <td>2016-01-06 14:42:00</td>\n",
       "      <td>2016-01-06 15:49:00</td>\n",
       "      <td>Business</td>\n",
       "      <td>Fort Pierce</td>\n",
       "      <td>West Palm Beach</td>\n",
       "      <td>63.7</td>\n",
       "      <td>Customer Visit</td>\n",
       "      <td>Afternoon</td>\n",
       "      <td>January</td>\n",
       "      <td>Wednesday</td>\n",
       "    </tr>\n",
       "  </tbody>\n",
       "</table>\n",
       "</div>"
      ],
      "text/plain": [
       "           START_DATE            END_DATE  CATEGORY        START  \\\n",
       "0 2016-01-01 21:11:00 2016-01-01 21:17:00  Business  Fort Pierce   \n",
       "1 2016-01-02 01:25:00 2016-01-02 01:37:00  Business  Fort Pierce   \n",
       "2 2016-01-02 20:25:00 2016-01-02 20:38:00  Business  Fort Pierce   \n",
       "3 2016-01-05 17:31:00 2016-01-05 17:45:00  Business  Fort Pierce   \n",
       "4 2016-01-06 14:42:00 2016-01-06 15:49:00  Business  Fort Pierce   \n",
       "\n",
       "              STOP  MILES          PURPOSE        Time    Month        day  \n",
       "0      Fort Pierce    5.1   Meal/Entertain     Evening  January     Friday  \n",
       "1      Fort Pierce    5.0              not  Late Night  January   Saturday  \n",
       "2      Fort Pierce    4.8  Errand/Supplies     Evening  January   Saturday  \n",
       "3      Fort Pierce    4.7          Meeting     Evening  January    Tuesday  \n",
       "4  West Palm Beach   63.7   Customer Visit   Afternoon  January  Wednesday  "
      ]
     },
     "execution_count": 85,
     "metadata": {},
     "output_type": "execute_result"
    }
   ],
   "source": [
    "data.head()"
   ]
  },
  {
   "cell_type": "markdown",
   "id": "c18cc210",
   "metadata": {},
   "source": [
    "Ans1. In which category do people book the most uber rides."
   ]
  },
  {
   "cell_type": "code",
   "execution_count": 86,
   "id": "e0f50393",
   "metadata": {},
   "outputs": [
    {
     "data": {
      "application/vnd.plotly.v1+json": {
       "config": {
        "plotlyServerURL": "https://plot.ly"
       },
       "data": [
        {
         "bingroup": "x",
         "hovertemplate": "CATEGORY=%{x}<br>count=%{y}<extra></extra>",
         "legendgroup": "",
         "marker": {
          "color": "rgb(229, 134, 6)",
          "pattern": {
           "shape": ""
          }
         },
         "name": "",
         "orientation": "v",
         "showlegend": false,
         "type": "histogram",
         "x": [
          "Business",
          "Business",
          "Business",
          "Business",
          "Business",
          "Business",
          "Business",
          "Business",
          "Business",
          "Business",
          "Business",
          "Business",
          "Business",
          "Business",
          "Business",
          "Business",
          "Business",
          "Business",
          "Business",
          "Business",
          "Business",
          "Business",
          "Business",
          "Business",
          "Business",
          "Business",
          "Business",
          "Business",
          "Business",
          "Business",
          "Business",
          "Business",
          "Business",
          "Business",
          "Business",
          "Business",
          "Business",
          "Business",
          "Business",
          "Business",
          "Business",
          "Business",
          "Business",
          "Business",
          "Business",
          "Business",
          "Business",
          "Personal",
          "Personal",
          "Personal",
          "Personal",
          "Business",
          "Business",
          "Business",
          "Business",
          "Business",
          "Business",
          "Business",
          "Business",
          "Business",
          "Business",
          "Business",
          "Business",
          "Business",
          "Business",
          "Personal",
          "Business",
          "Business",
          "Business",
          "Business",
          "Business",
          "Business",
          "Business",
          "Business",
          "Business",
          "Business",
          "Business",
          "Business",
          "Business",
          "Business",
          "Business",
          "Personal",
          "Personal",
          "Business",
          "Business",
          "Business",
          "Business",
          "Business",
          "Business",
          "Business",
          "Business",
          "Business",
          "Business",
          "Personal",
          "Business",
          "Business",
          "Business",
          "Business",
          "Business",
          "Business",
          "Business",
          "Business",
          "Business",
          "Business",
          "Personal",
          "Business",
          "Business",
          "Business",
          "Personal",
          "Personal",
          "Personal",
          "Business",
          "Business",
          "Business",
          "Business",
          "Business",
          "Business",
          "Business",
          "Business",
          "Business",
          "Business",
          "Business",
          "Business",
          "Business",
          "Business",
          "Business",
          "Business",
          "Business",
          "Business",
          "Business",
          "Business",
          "Business",
          "Business",
          "Business",
          "Business",
          "Business",
          "Business",
          "Business",
          "Business",
          "Business",
          "Business",
          "Business",
          "Business",
          "Business",
          "Business",
          "Business",
          "Business",
          "Business",
          "Business",
          "Business",
          "Business",
          "Business",
          "Business",
          "Business",
          "Business",
          "Business",
          "Business",
          "Business",
          "Business",
          "Business",
          "Business",
          "Business",
          "Business",
          "Business",
          "Business",
          "Business",
          "Business",
          "Business",
          "Business",
          "Business",
          "Business",
          "Business",
          "Business",
          "Business",
          "Business",
          "Business",
          "Business",
          "Business",
          "Business",
          "Business",
          "Business",
          "Business",
          "Business",
          "Business",
          "Business",
          "Business",
          "Business",
          "Business",
          "Business",
          "Business",
          "Business",
          "Business",
          "Business",
          "Business",
          "Business",
          "Business",
          "Business",
          "Business",
          "Business",
          "Business",
          "Business",
          "Business",
          "Business",
          "Business",
          "Business",
          "Business",
          "Business",
          "Business",
          "Business",
          "Business",
          "Business",
          "Business",
          "Business",
          "Business",
          "Business",
          "Business",
          "Business",
          "Business",
          "Business",
          "Business",
          "Business",
          "Business",
          "Business",
          "Business",
          "Business",
          "Business",
          "Business",
          "Business",
          "Business",
          "Business",
          "Business",
          "Business",
          "Business",
          "Business",
          "Business",
          "Business",
          "Business",
          "Personal",
          "Business",
          "Business",
          "Business",
          "Business",
          "Business",
          "Business",
          "Business",
          "Business",
          "Business",
          "Business",
          "Business",
          "Business",
          "Business",
          "Business",
          "Business",
          "Business",
          "Business",
          "Business",
          "Business",
          "Business",
          "Business",
          "Business",
          "Business",
          "Business",
          "Business",
          "Business",
          "Business",
          "Business",
          "Business",
          "Business",
          "Business",
          "Business",
          "Business",
          "Business",
          "Business",
          "Business",
          "Business",
          "Business",
          "Business",
          "Business",
          "Business",
          "Business",
          "Business",
          "Business",
          "Business",
          "Business",
          "Business",
          "Business",
          "Business",
          "Business",
          "Business",
          "Business",
          "Business",
          "Business",
          "Business",
          "Business",
          "Business",
          "Business",
          "Business",
          "Business",
          "Business",
          "Business",
          "Business",
          "Business",
          "Business",
          "Business",
          "Business",
          "Business",
          "Business",
          "Business",
          "Business",
          "Business",
          "Business",
          "Business",
          "Business",
          "Business",
          "Business",
          "Business",
          "Business",
          "Business",
          "Business",
          "Business",
          "Business",
          "Business",
          "Business",
          "Business",
          "Business",
          "Business",
          "Business",
          "Business",
          "Business",
          "Business",
          "Business",
          "Business",
          "Business",
          "Business",
          "Business",
          "Business",
          "Business",
          "Business",
          "Business",
          "Business",
          "Business",
          "Business",
          "Business",
          "Business",
          "Business",
          "Business",
          "Business",
          "Business",
          "Business",
          "Business",
          "Business",
          "Business",
          "Business",
          "Business",
          "Business",
          "Business",
          "Business",
          "Business",
          "Business",
          "Business",
          "Business",
          "Business",
          "Business",
          "Business",
          "Business",
          "Business",
          "Business",
          "Business",
          "Business",
          "Business",
          "Business",
          "Business",
          "Business",
          "Business",
          "Business",
          "Business",
          "Business",
          "Business",
          "Business",
          "Business",
          "Business",
          "Business",
          "Business",
          "Business",
          "Business",
          "Business",
          "Business",
          "Business",
          "Business",
          "Business",
          "Business",
          "Business",
          "Business",
          "Business",
          "Business",
          "Business",
          "Business",
          "Business",
          "Business",
          "Business",
          "Business",
          "Business",
          "Business",
          "Business",
          "Business",
          "Business",
          "Business",
          "Business",
          "Business",
          "Business",
          "Business",
          "Business",
          "Business",
          "Business",
          "Business",
          "Business",
          "Business",
          "Business",
          "Business",
          "Business"
         ],
         "xaxis": "x",
         "yaxis": "y"
        }
       ],
       "layout": {
        "barmode": "relative",
        "legend": {
         "tracegroupgap": 0
        },
        "template": {
         "data": {
          "bar": [
           {
            "error_x": {
             "color": "#2a3f5f"
            },
            "error_y": {
             "color": "#2a3f5f"
            },
            "marker": {
             "line": {
              "color": "white",
              "width": 0.5
             },
             "pattern": {
              "fillmode": "overlay",
              "size": 10,
              "solidity": 0.2
             }
            },
            "type": "bar"
           }
          ],
          "barpolar": [
           {
            "marker": {
             "line": {
              "color": "white",
              "width": 0.5
             },
             "pattern": {
              "fillmode": "overlay",
              "size": 10,
              "solidity": 0.2
             }
            },
            "type": "barpolar"
           }
          ],
          "carpet": [
           {
            "aaxis": {
             "endlinecolor": "#2a3f5f",
             "gridcolor": "#C8D4E3",
             "linecolor": "#C8D4E3",
             "minorgridcolor": "#C8D4E3",
             "startlinecolor": "#2a3f5f"
            },
            "baxis": {
             "endlinecolor": "#2a3f5f",
             "gridcolor": "#C8D4E3",
             "linecolor": "#C8D4E3",
             "minorgridcolor": "#C8D4E3",
             "startlinecolor": "#2a3f5f"
            },
            "type": "carpet"
           }
          ],
          "choropleth": [
           {
            "colorbar": {
             "outlinewidth": 0,
             "ticks": ""
            },
            "type": "choropleth"
           }
          ],
          "contour": [
           {
            "colorbar": {
             "outlinewidth": 0,
             "ticks": ""
            },
            "colorscale": [
             [
              0,
              "#0d0887"
             ],
             [
              0.1111111111111111,
              "#46039f"
             ],
             [
              0.2222222222222222,
              "#7201a8"
             ],
             [
              0.3333333333333333,
              "#9c179e"
             ],
             [
              0.4444444444444444,
              "#bd3786"
             ],
             [
              0.5555555555555556,
              "#d8576b"
             ],
             [
              0.6666666666666666,
              "#ed7953"
             ],
             [
              0.7777777777777778,
              "#fb9f3a"
             ],
             [
              0.8888888888888888,
              "#fdca26"
             ],
             [
              1,
              "#f0f921"
             ]
            ],
            "type": "contour"
           }
          ],
          "contourcarpet": [
           {
            "colorbar": {
             "outlinewidth": 0,
             "ticks": ""
            },
            "type": "contourcarpet"
           }
          ],
          "heatmap": [
           {
            "colorbar": {
             "outlinewidth": 0,
             "ticks": ""
            },
            "colorscale": [
             [
              0,
              "#0d0887"
             ],
             [
              0.1111111111111111,
              "#46039f"
             ],
             [
              0.2222222222222222,
              "#7201a8"
             ],
             [
              0.3333333333333333,
              "#9c179e"
             ],
             [
              0.4444444444444444,
              "#bd3786"
             ],
             [
              0.5555555555555556,
              "#d8576b"
             ],
             [
              0.6666666666666666,
              "#ed7953"
             ],
             [
              0.7777777777777778,
              "#fb9f3a"
             ],
             [
              0.8888888888888888,
              "#fdca26"
             ],
             [
              1,
              "#f0f921"
             ]
            ],
            "type": "heatmap"
           }
          ],
          "histogram": [
           {
            "marker": {
             "pattern": {
              "fillmode": "overlay",
              "size": 10,
              "solidity": 0.2
             }
            },
            "type": "histogram"
           }
          ],
          "histogram2d": [
           {
            "colorbar": {
             "outlinewidth": 0,
             "ticks": ""
            },
            "colorscale": [
             [
              0,
              "#0d0887"
             ],
             [
              0.1111111111111111,
              "#46039f"
             ],
             [
              0.2222222222222222,
              "#7201a8"
             ],
             [
              0.3333333333333333,
              "#9c179e"
             ],
             [
              0.4444444444444444,
              "#bd3786"
             ],
             [
              0.5555555555555556,
              "#d8576b"
             ],
             [
              0.6666666666666666,
              "#ed7953"
             ],
             [
              0.7777777777777778,
              "#fb9f3a"
             ],
             [
              0.8888888888888888,
              "#fdca26"
             ],
             [
              1,
              "#f0f921"
             ]
            ],
            "type": "histogram2d"
           }
          ],
          "histogram2dcontour": [
           {
            "colorbar": {
             "outlinewidth": 0,
             "ticks": ""
            },
            "colorscale": [
             [
              0,
              "#0d0887"
             ],
             [
              0.1111111111111111,
              "#46039f"
             ],
             [
              0.2222222222222222,
              "#7201a8"
             ],
             [
              0.3333333333333333,
              "#9c179e"
             ],
             [
              0.4444444444444444,
              "#bd3786"
             ],
             [
              0.5555555555555556,
              "#d8576b"
             ],
             [
              0.6666666666666666,
              "#ed7953"
             ],
             [
              0.7777777777777778,
              "#fb9f3a"
             ],
             [
              0.8888888888888888,
              "#fdca26"
             ],
             [
              1,
              "#f0f921"
             ]
            ],
            "type": "histogram2dcontour"
           }
          ],
          "mesh3d": [
           {
            "colorbar": {
             "outlinewidth": 0,
             "ticks": ""
            },
            "type": "mesh3d"
           }
          ],
          "parcoords": [
           {
            "line": {
             "colorbar": {
              "outlinewidth": 0,
              "ticks": ""
             }
            },
            "type": "parcoords"
           }
          ],
          "pie": [
           {
            "automargin": true,
            "type": "pie"
           }
          ],
          "scatter": [
           {
            "fillpattern": {
             "fillmode": "overlay",
             "size": 10,
             "solidity": 0.2
            },
            "type": "scatter"
           }
          ],
          "scatter3d": [
           {
            "line": {
             "colorbar": {
              "outlinewidth": 0,
              "ticks": ""
             }
            },
            "marker": {
             "colorbar": {
              "outlinewidth": 0,
              "ticks": ""
             }
            },
            "type": "scatter3d"
           }
          ],
          "scattercarpet": [
           {
            "marker": {
             "colorbar": {
              "outlinewidth": 0,
              "ticks": ""
             }
            },
            "type": "scattercarpet"
           }
          ],
          "scattergeo": [
           {
            "marker": {
             "colorbar": {
              "outlinewidth": 0,
              "ticks": ""
             }
            },
            "type": "scattergeo"
           }
          ],
          "scattergl": [
           {
            "marker": {
             "colorbar": {
              "outlinewidth": 0,
              "ticks": ""
             }
            },
            "type": "scattergl"
           }
          ],
          "scattermap": [
           {
            "marker": {
             "colorbar": {
              "outlinewidth": 0,
              "ticks": ""
             }
            },
            "type": "scattermap"
           }
          ],
          "scattermapbox": [
           {
            "marker": {
             "colorbar": {
              "outlinewidth": 0,
              "ticks": ""
             }
            },
            "type": "scattermapbox"
           }
          ],
          "scatterpolar": [
           {
            "marker": {
             "colorbar": {
              "outlinewidth": 0,
              "ticks": ""
             }
            },
            "type": "scatterpolar"
           }
          ],
          "scatterpolargl": [
           {
            "marker": {
             "colorbar": {
              "outlinewidth": 0,
              "ticks": ""
             }
            },
            "type": "scatterpolargl"
           }
          ],
          "scatterternary": [
           {
            "marker": {
             "colorbar": {
              "outlinewidth": 0,
              "ticks": ""
             }
            },
            "type": "scatterternary"
           }
          ],
          "surface": [
           {
            "colorbar": {
             "outlinewidth": 0,
             "ticks": ""
            },
            "colorscale": [
             [
              0,
              "#0d0887"
             ],
             [
              0.1111111111111111,
              "#46039f"
             ],
             [
              0.2222222222222222,
              "#7201a8"
             ],
             [
              0.3333333333333333,
              "#9c179e"
             ],
             [
              0.4444444444444444,
              "#bd3786"
             ],
             [
              0.5555555555555556,
              "#d8576b"
             ],
             [
              0.6666666666666666,
              "#ed7953"
             ],
             [
              0.7777777777777778,
              "#fb9f3a"
             ],
             [
              0.8888888888888888,
              "#fdca26"
             ],
             [
              1,
              "#f0f921"
             ]
            ],
            "type": "surface"
           }
          ],
          "table": [
           {
            "cells": {
             "fill": {
              "color": "#EBF0F8"
             },
             "line": {
              "color": "white"
             }
            },
            "header": {
             "fill": {
              "color": "#C8D4E3"
             },
             "line": {
              "color": "white"
             }
            },
            "type": "table"
           }
          ]
         },
         "layout": {
          "annotationdefaults": {
           "arrowcolor": "#2a3f5f",
           "arrowhead": 0,
           "arrowwidth": 1
          },
          "autotypenumbers": "strict",
          "coloraxis": {
           "colorbar": {
            "outlinewidth": 0,
            "ticks": ""
           }
          },
          "colorscale": {
           "diverging": [
            [
             0,
             "#8e0152"
            ],
            [
             0.1,
             "#c51b7d"
            ],
            [
             0.2,
             "#de77ae"
            ],
            [
             0.3,
             "#f1b6da"
            ],
            [
             0.4,
             "#fde0ef"
            ],
            [
             0.5,
             "#f7f7f7"
            ],
            [
             0.6,
             "#e6f5d0"
            ],
            [
             0.7,
             "#b8e186"
            ],
            [
             0.8,
             "#7fbc41"
            ],
            [
             0.9,
             "#4d9221"
            ],
            [
             1,
             "#276419"
            ]
           ],
           "sequential": [
            [
             0,
             "#0d0887"
            ],
            [
             0.1111111111111111,
             "#46039f"
            ],
            [
             0.2222222222222222,
             "#7201a8"
            ],
            [
             0.3333333333333333,
             "#9c179e"
            ],
            [
             0.4444444444444444,
             "#bd3786"
            ],
            [
             0.5555555555555556,
             "#d8576b"
            ],
            [
             0.6666666666666666,
             "#ed7953"
            ],
            [
             0.7777777777777778,
             "#fb9f3a"
            ],
            [
             0.8888888888888888,
             "#fdca26"
            ],
            [
             1,
             "#f0f921"
            ]
           ],
           "sequentialminus": [
            [
             0,
             "#0d0887"
            ],
            [
             0.1111111111111111,
             "#46039f"
            ],
            [
             0.2222222222222222,
             "#7201a8"
            ],
            [
             0.3333333333333333,
             "#9c179e"
            ],
            [
             0.4444444444444444,
             "#bd3786"
            ],
            [
             0.5555555555555556,
             "#d8576b"
            ],
            [
             0.6666666666666666,
             "#ed7953"
            ],
            [
             0.7777777777777778,
             "#fb9f3a"
            ],
            [
             0.8888888888888888,
             "#fdca26"
            ],
            [
             1,
             "#f0f921"
            ]
           ]
          },
          "colorway": [
           "#636efa",
           "#EF553B",
           "#00cc96",
           "#ab63fa",
           "#FFA15A",
           "#19d3f3",
           "#FF6692",
           "#B6E880",
           "#FF97FF",
           "#FECB52"
          ],
          "font": {
           "color": "#2a3f5f"
          },
          "geo": {
           "bgcolor": "white",
           "lakecolor": "white",
           "landcolor": "white",
           "showlakes": true,
           "showland": true,
           "subunitcolor": "#C8D4E3"
          },
          "hoverlabel": {
           "align": "left"
          },
          "hovermode": "closest",
          "mapbox": {
           "style": "light"
          },
          "paper_bgcolor": "white",
          "plot_bgcolor": "white",
          "polar": {
           "angularaxis": {
            "gridcolor": "#EBF0F8",
            "linecolor": "#EBF0F8",
            "ticks": ""
           },
           "bgcolor": "white",
           "radialaxis": {
            "gridcolor": "#EBF0F8",
            "linecolor": "#EBF0F8",
            "ticks": ""
           }
          },
          "scene": {
           "xaxis": {
            "backgroundcolor": "white",
            "gridcolor": "#DFE8F3",
            "gridwidth": 2,
            "linecolor": "#EBF0F8",
            "showbackground": true,
            "ticks": "",
            "zerolinecolor": "#EBF0F8"
           },
           "yaxis": {
            "backgroundcolor": "white",
            "gridcolor": "#DFE8F3",
            "gridwidth": 2,
            "linecolor": "#EBF0F8",
            "showbackground": true,
            "ticks": "",
            "zerolinecolor": "#EBF0F8"
           },
           "zaxis": {
            "backgroundcolor": "white",
            "gridcolor": "#DFE8F3",
            "gridwidth": 2,
            "linecolor": "#EBF0F8",
            "showbackground": true,
            "ticks": "",
            "zerolinecolor": "#EBF0F8"
           }
          },
          "shapedefaults": {
           "line": {
            "color": "#2a3f5f"
           }
          },
          "ternary": {
           "aaxis": {
            "gridcolor": "#DFE8F3",
            "linecolor": "#A2B1C6",
            "ticks": ""
           },
           "baxis": {
            "gridcolor": "#DFE8F3",
            "linecolor": "#A2B1C6",
            "ticks": ""
           },
           "bgcolor": "white",
           "caxis": {
            "gridcolor": "#DFE8F3",
            "linecolor": "#A2B1C6",
            "ticks": ""
           }
          },
          "title": {
           "x": 0.05
          },
          "xaxis": {
           "automargin": true,
           "gridcolor": "#EBF0F8",
           "linecolor": "#EBF0F8",
           "ticks": "",
           "title": {
            "standoff": 15
           },
           "zerolinecolor": "#EBF0F8",
           "zerolinewidth": 2
          },
          "yaxis": {
           "automargin": true,
           "gridcolor": "#EBF0F8",
           "linecolor": "#EBF0F8",
           "ticks": "",
           "title": {
            "standoff": 15
           },
           "zerolinecolor": "#EBF0F8",
           "zerolinewidth": 2
          }
         }
        },
        "title": {
         "text": "Category Do People Book"
        },
        "xaxis": {
         "anchor": "y",
         "domain": [
          0,
          1
         ],
         "title": {
          "text": "CATEGORY"
         }
        },
        "yaxis": {
         "anchor": "x",
         "domain": [
          0,
          1
         ],
         "title": {
          "text": "count"
         }
        }
       }
      }
     },
     "metadata": {},
     "output_type": "display_data"
    }
   ],
   "source": [
    "fig=px.histogram(data, x='CATEGORY', title='Category Do People Book', color_discrete_sequence=px.colors.qualitative.Vivid)\n",
    "fig.show()"
   ]
  },
  {
   "cell_type": "markdown",
   "id": "2efbb453",
   "metadata": {},
   "source": [
    "Ans2. For which purpose do people book uber rides the most?\n"
   ]
  },
  {
   "cell_type": "code",
   "execution_count": 87,
   "id": "aef7cd2e",
   "metadata": {},
   "outputs": [
    {
     "data": {
      "application/vnd.plotly.v1+json": {
       "config": {
        "plotlyServerURL": "https://plot.ly"
       },
       "data": [
        {
         "bingroup": "x",
         "hovertemplate": "PURPOSE=%{x}<br>count=%{y}<extra></extra>",
         "legendgroup": "",
         "marker": {
          "color": "#636efa",
          "pattern": {
           "shape": ""
          }
         },
         "name": "",
         "orientation": "v",
         "showlegend": false,
         "type": "histogram",
         "x": [
          "Meal/Entertain",
          "not",
          "Errand/Supplies",
          "Meeting",
          "Customer Visit",
          "Meal/Entertain",
          "Meeting",
          "Meeting",
          "Meeting",
          "Customer Visit",
          "Meeting",
          "Meeting",
          "Meeting",
          "Temporary Site",
          "Errand/Supplies",
          "Meal/Entertain",
          "Meal/Entertain",
          "Meal/Entertain",
          "Meal/Entertain",
          "Errand/Supplies",
          "Customer Visit",
          "Errand/Supplies",
          "Meeting",
          "Customer Visit",
          "Customer Visit",
          "Meal/Entertain",
          "Meeting",
          "Errand/Supplies",
          "Errand/Supplies",
          "Errand/Supplies",
          "Meal/Entertain",
          "Meal/Entertain",
          "Meal/Entertain",
          "Meal/Entertain",
          "Meeting",
          "Meeting",
          "Meeting",
          "Meeting",
          "Between Offices",
          "Errand/Supplies",
          "Meal/Entertain",
          "Errand/Supplies",
          "Customer Visit",
          "Temporary Site",
          "Meeting",
          "Meal/Entertain",
          "Meal/Entertain",
          "not",
          "not",
          "not",
          "not",
          "not",
          "Meal/Entertain",
          "Meal/Entertain",
          "Meal/Entertain",
          "Temporary Site",
          "Temporary Site",
          "Temporary Site",
          "Temporary Site",
          "Customer Visit",
          "Meeting",
          "Meeting",
          "Customer Visit",
          "Meal/Entertain",
          "Meeting",
          "not",
          "Errand/Supplies",
          "Meal/Entertain",
          "Customer Visit",
          "Meeting",
          "Meeting",
          "Customer Visit",
          "Meeting",
          "Meeting",
          "Customer Visit",
          "Meal/Entertain",
          "Errand/Supplies",
          "Meeting",
          "Temporary Site",
          "Meal/Entertain",
          "Meal/Entertain",
          "not",
          "not",
          "Meal/Entertain",
          "Meal/Entertain",
          "Meal/Entertain",
          "Errand/Supplies",
          "Customer Visit",
          "Customer Visit",
          "Meeting",
          "Between Offices",
          "Between Offices",
          "Meal/Entertain",
          "not",
          "Meeting",
          "Meeting",
          "not",
          "not",
          "Meal/Entertain",
          "not",
          "not",
          "not",
          "not",
          "not",
          "not",
          "Meeting",
          "Customer Visit",
          "Meeting",
          "not",
          "not",
          "not",
          "Customer Visit",
          "Customer Visit",
          "Customer Visit",
          "Meeting",
          "Meeting",
          "Meal/Entertain",
          "Meal/Entertain",
          "Meal/Entertain",
          "Errand/Supplies",
          "Meeting",
          "Meal/Entertain",
          "Errand/Supplies",
          "Meeting",
          "Meeting",
          "Errand/Supplies",
          "Meeting",
          "Customer Visit",
          "Meeting",
          "Meal/Entertain",
          "Meal/Entertain",
          "not",
          "Between Offices",
          "Meeting",
          "Errand/Supplies",
          "Errand/Supplies",
          "Meal/Entertain",
          "Meal/Entertain",
          "Meal/Entertain",
          "Errand/Supplies",
          "Meal/Entertain",
          "Meal/Entertain",
          "Meal/Entertain",
          "Errand/Supplies",
          "Meeting",
          "Meeting",
          "Meeting",
          "Customer Visit",
          "Customer Visit",
          "Between Offices",
          "Customer Visit",
          "Customer Visit",
          "Customer Visit",
          "Customer Visit",
          "Meeting",
          "Meeting",
          "Customer Visit",
          "Meeting",
          "Meeting",
          "Meeting",
          "Meal/Entertain",
          "Errand/Supplies",
          "Errand/Supplies",
          "Errand/Supplies",
          "Between Offices",
          "Customer Visit",
          "Customer Visit",
          "Meal/Entertain",
          "Meal/Entertain",
          "Meeting",
          "Meeting",
          "Errand/Supplies",
          "Errand/Supplies",
          "Meal/Entertain",
          "Meal/Entertain",
          "Meeting",
          "Meeting",
          "Meeting",
          "Meeting",
          "Meal/Entertain",
          "Errand/Supplies",
          "Meal/Entertain",
          "Errand/Supplies",
          "Meal/Entertain",
          "Errand/Supplies",
          "Errand/Supplies",
          "Errand/Supplies",
          "Meeting",
          "Meeting",
          "Meeting",
          "Errand/Supplies",
          "Meal/Entertain",
          "not",
          "Meeting",
          "Meeting",
          "Meal/Entertain",
          "Errand/Supplies",
          "Errand/Supplies",
          "Meeting",
          "Meeting",
          "Meeting",
          "Meeting",
          "Meeting",
          "Meeting",
          "Meeting",
          "Errand/Supplies",
          "Errand/Supplies",
          "Meeting",
          "Meeting",
          "Meeting",
          "Temporary Site",
          "Meeting",
          "Errand/Supplies",
          "Meeting",
          "Errand/Supplies",
          "not",
          "not",
          "Meal/Entertain",
          "Meeting",
          "not",
          "Meal/Entertain",
          "Customer Visit",
          "Temporary Site",
          "not",
          "not",
          "not",
          "not",
          "not",
          "not",
          "not",
          "not",
          "not",
          "not",
          "not",
          "not",
          "not",
          "not",
          "not",
          "not",
          "not",
          "not",
          "not",
          "not",
          "not",
          "not",
          "not",
          "Meeting",
          "not",
          "not",
          "not",
          "not",
          "not",
          "not",
          "not",
          "not",
          "not",
          "not",
          "not",
          "not",
          "Customer Visit",
          "not",
          "Meal/Entertain",
          "not",
          "not",
          "Customer Visit",
          "not",
          "Customer Visit",
          "not",
          "not",
          "not",
          "not",
          "not",
          "not",
          "not",
          "not",
          "not",
          "not",
          "not",
          "not",
          "not",
          "not",
          "not",
          "not",
          "not",
          "not",
          "not",
          "not",
          "not",
          "not",
          "not",
          "not",
          "not",
          "not",
          "not",
          "not",
          "not",
          "not",
          "not",
          "not",
          "not",
          "not",
          "not",
          "not",
          "not",
          "not",
          "not",
          "not",
          "not",
          "not",
          "not",
          "not",
          "not",
          "not",
          "Temporary Site",
          "not",
          "not",
          "Meeting",
          "not",
          "not",
          "not",
          "not",
          "not",
          "not",
          "Meal/Entertain",
          "not",
          "not",
          "Meeting",
          "not",
          "not",
          "not",
          "not",
          "not",
          "not",
          "Meal/Entertain",
          "Customer Visit",
          "Temporary Site",
          "not",
          "not",
          "not",
          "not",
          "not",
          "not",
          "not",
          "Meeting",
          "Customer Visit",
          "not",
          "not",
          "Between Offices",
          "Between Offices",
          "Between Offices",
          "Meeting",
          "not",
          "not",
          "not",
          "not",
          "not",
          "not",
          "Meeting",
          "Customer Visit",
          "not",
          "not",
          "Temporary Site",
          "not",
          "not",
          "Temporary Site",
          "Meeting",
          "not",
          "Customer Visit",
          "not",
          "not",
          "Customer Visit",
          "not",
          "not",
          "not",
          "not",
          "not",
          "not",
          "Meeting",
          "not",
          "not",
          "Errand/Supplies",
          "Meeting",
          "Errand/Supplies",
          "Meal/Entertain",
          "Customer Visit",
          "Meal/Entertain",
          "Customer Visit",
          "Meal/Entertain",
          "Customer Visit",
          "Errand/Supplies",
          "not",
          "Customer Visit",
          "Meal/Entertain",
          "Customer Visit",
          "not",
          "Meal/Entertain",
          "Meeting",
          "Meeting",
          "Customer Visit",
          "Meal/Entertain",
          "Errand/Supplies",
          "Errand/Supplies",
          "Meeting",
          "Errand/Supplies",
          "Errand/Supplies",
          "Temporary Site",
          "Meeting",
          "Customer Visit",
          "Meeting",
          "Errand/Supplies",
          "Meal/Entertain",
          "Customer Visit",
          "Meal/Entertain",
          "Errand/Supplies",
          "Errand/Supplies",
          "Errand/Supplies",
          "Meal/Entertain",
          "Customer Visit",
          "Meal/Entertain",
          "Customer Visit"
         ],
         "xaxis": "x",
         "yaxis": "y"
        }
       ],
       "layout": {
        "barmode": "relative",
        "legend": {
         "tracegroupgap": 0
        },
        "template": {
         "data": {
          "bar": [
           {
            "error_x": {
             "color": "#2a3f5f"
            },
            "error_y": {
             "color": "#2a3f5f"
            },
            "marker": {
             "line": {
              "color": "white",
              "width": 0.5
             },
             "pattern": {
              "fillmode": "overlay",
              "size": 10,
              "solidity": 0.2
             }
            },
            "type": "bar"
           }
          ],
          "barpolar": [
           {
            "marker": {
             "line": {
              "color": "white",
              "width": 0.5
             },
             "pattern": {
              "fillmode": "overlay",
              "size": 10,
              "solidity": 0.2
             }
            },
            "type": "barpolar"
           }
          ],
          "carpet": [
           {
            "aaxis": {
             "endlinecolor": "#2a3f5f",
             "gridcolor": "#C8D4E3",
             "linecolor": "#C8D4E3",
             "minorgridcolor": "#C8D4E3",
             "startlinecolor": "#2a3f5f"
            },
            "baxis": {
             "endlinecolor": "#2a3f5f",
             "gridcolor": "#C8D4E3",
             "linecolor": "#C8D4E3",
             "minorgridcolor": "#C8D4E3",
             "startlinecolor": "#2a3f5f"
            },
            "type": "carpet"
           }
          ],
          "choropleth": [
           {
            "colorbar": {
             "outlinewidth": 0,
             "ticks": ""
            },
            "type": "choropleth"
           }
          ],
          "contour": [
           {
            "colorbar": {
             "outlinewidth": 0,
             "ticks": ""
            },
            "colorscale": [
             [
              0,
              "#0d0887"
             ],
             [
              0.1111111111111111,
              "#46039f"
             ],
             [
              0.2222222222222222,
              "#7201a8"
             ],
             [
              0.3333333333333333,
              "#9c179e"
             ],
             [
              0.4444444444444444,
              "#bd3786"
             ],
             [
              0.5555555555555556,
              "#d8576b"
             ],
             [
              0.6666666666666666,
              "#ed7953"
             ],
             [
              0.7777777777777778,
              "#fb9f3a"
             ],
             [
              0.8888888888888888,
              "#fdca26"
             ],
             [
              1,
              "#f0f921"
             ]
            ],
            "type": "contour"
           }
          ],
          "contourcarpet": [
           {
            "colorbar": {
             "outlinewidth": 0,
             "ticks": ""
            },
            "type": "contourcarpet"
           }
          ],
          "heatmap": [
           {
            "colorbar": {
             "outlinewidth": 0,
             "ticks": ""
            },
            "colorscale": [
             [
              0,
              "#0d0887"
             ],
             [
              0.1111111111111111,
              "#46039f"
             ],
             [
              0.2222222222222222,
              "#7201a8"
             ],
             [
              0.3333333333333333,
              "#9c179e"
             ],
             [
              0.4444444444444444,
              "#bd3786"
             ],
             [
              0.5555555555555556,
              "#d8576b"
             ],
             [
              0.6666666666666666,
              "#ed7953"
             ],
             [
              0.7777777777777778,
              "#fb9f3a"
             ],
             [
              0.8888888888888888,
              "#fdca26"
             ],
             [
              1,
              "#f0f921"
             ]
            ],
            "type": "heatmap"
           }
          ],
          "histogram": [
           {
            "marker": {
             "pattern": {
              "fillmode": "overlay",
              "size": 10,
              "solidity": 0.2
             }
            },
            "type": "histogram"
           }
          ],
          "histogram2d": [
           {
            "colorbar": {
             "outlinewidth": 0,
             "ticks": ""
            },
            "colorscale": [
             [
              0,
              "#0d0887"
             ],
             [
              0.1111111111111111,
              "#46039f"
             ],
             [
              0.2222222222222222,
              "#7201a8"
             ],
             [
              0.3333333333333333,
              "#9c179e"
             ],
             [
              0.4444444444444444,
              "#bd3786"
             ],
             [
              0.5555555555555556,
              "#d8576b"
             ],
             [
              0.6666666666666666,
              "#ed7953"
             ],
             [
              0.7777777777777778,
              "#fb9f3a"
             ],
             [
              0.8888888888888888,
              "#fdca26"
             ],
             [
              1,
              "#f0f921"
             ]
            ],
            "type": "histogram2d"
           }
          ],
          "histogram2dcontour": [
           {
            "colorbar": {
             "outlinewidth": 0,
             "ticks": ""
            },
            "colorscale": [
             [
              0,
              "#0d0887"
             ],
             [
              0.1111111111111111,
              "#46039f"
             ],
             [
              0.2222222222222222,
              "#7201a8"
             ],
             [
              0.3333333333333333,
              "#9c179e"
             ],
             [
              0.4444444444444444,
              "#bd3786"
             ],
             [
              0.5555555555555556,
              "#d8576b"
             ],
             [
              0.6666666666666666,
              "#ed7953"
             ],
             [
              0.7777777777777778,
              "#fb9f3a"
             ],
             [
              0.8888888888888888,
              "#fdca26"
             ],
             [
              1,
              "#f0f921"
             ]
            ],
            "type": "histogram2dcontour"
           }
          ],
          "mesh3d": [
           {
            "colorbar": {
             "outlinewidth": 0,
             "ticks": ""
            },
            "type": "mesh3d"
           }
          ],
          "parcoords": [
           {
            "line": {
             "colorbar": {
              "outlinewidth": 0,
              "ticks": ""
             }
            },
            "type": "parcoords"
           }
          ],
          "pie": [
           {
            "automargin": true,
            "type": "pie"
           }
          ],
          "scatter": [
           {
            "fillpattern": {
             "fillmode": "overlay",
             "size": 10,
             "solidity": 0.2
            },
            "type": "scatter"
           }
          ],
          "scatter3d": [
           {
            "line": {
             "colorbar": {
              "outlinewidth": 0,
              "ticks": ""
             }
            },
            "marker": {
             "colorbar": {
              "outlinewidth": 0,
              "ticks": ""
             }
            },
            "type": "scatter3d"
           }
          ],
          "scattercarpet": [
           {
            "marker": {
             "colorbar": {
              "outlinewidth": 0,
              "ticks": ""
             }
            },
            "type": "scattercarpet"
           }
          ],
          "scattergeo": [
           {
            "marker": {
             "colorbar": {
              "outlinewidth": 0,
              "ticks": ""
             }
            },
            "type": "scattergeo"
           }
          ],
          "scattergl": [
           {
            "marker": {
             "colorbar": {
              "outlinewidth": 0,
              "ticks": ""
             }
            },
            "type": "scattergl"
           }
          ],
          "scattermap": [
           {
            "marker": {
             "colorbar": {
              "outlinewidth": 0,
              "ticks": ""
             }
            },
            "type": "scattermap"
           }
          ],
          "scattermapbox": [
           {
            "marker": {
             "colorbar": {
              "outlinewidth": 0,
              "ticks": ""
             }
            },
            "type": "scattermapbox"
           }
          ],
          "scatterpolar": [
           {
            "marker": {
             "colorbar": {
              "outlinewidth": 0,
              "ticks": ""
             }
            },
            "type": "scatterpolar"
           }
          ],
          "scatterpolargl": [
           {
            "marker": {
             "colorbar": {
              "outlinewidth": 0,
              "ticks": ""
             }
            },
            "type": "scatterpolargl"
           }
          ],
          "scatterternary": [
           {
            "marker": {
             "colorbar": {
              "outlinewidth": 0,
              "ticks": ""
             }
            },
            "type": "scatterternary"
           }
          ],
          "surface": [
           {
            "colorbar": {
             "outlinewidth": 0,
             "ticks": ""
            },
            "colorscale": [
             [
              0,
              "#0d0887"
             ],
             [
              0.1111111111111111,
              "#46039f"
             ],
             [
              0.2222222222222222,
              "#7201a8"
             ],
             [
              0.3333333333333333,
              "#9c179e"
             ],
             [
              0.4444444444444444,
              "#bd3786"
             ],
             [
              0.5555555555555556,
              "#d8576b"
             ],
             [
              0.6666666666666666,
              "#ed7953"
             ],
             [
              0.7777777777777778,
              "#fb9f3a"
             ],
             [
              0.8888888888888888,
              "#fdca26"
             ],
             [
              1,
              "#f0f921"
             ]
            ],
            "type": "surface"
           }
          ],
          "table": [
           {
            "cells": {
             "fill": {
              "color": "#EBF0F8"
             },
             "line": {
              "color": "white"
             }
            },
            "header": {
             "fill": {
              "color": "#C8D4E3"
             },
             "line": {
              "color": "white"
             }
            },
            "type": "table"
           }
          ]
         },
         "layout": {
          "annotationdefaults": {
           "arrowcolor": "#2a3f5f",
           "arrowhead": 0,
           "arrowwidth": 1
          },
          "autotypenumbers": "strict",
          "coloraxis": {
           "colorbar": {
            "outlinewidth": 0,
            "ticks": ""
           }
          },
          "colorscale": {
           "diverging": [
            [
             0,
             "#8e0152"
            ],
            [
             0.1,
             "#c51b7d"
            ],
            [
             0.2,
             "#de77ae"
            ],
            [
             0.3,
             "#f1b6da"
            ],
            [
             0.4,
             "#fde0ef"
            ],
            [
             0.5,
             "#f7f7f7"
            ],
            [
             0.6,
             "#e6f5d0"
            ],
            [
             0.7,
             "#b8e186"
            ],
            [
             0.8,
             "#7fbc41"
            ],
            [
             0.9,
             "#4d9221"
            ],
            [
             1,
             "#276419"
            ]
           ],
           "sequential": [
            [
             0,
             "#0d0887"
            ],
            [
             0.1111111111111111,
             "#46039f"
            ],
            [
             0.2222222222222222,
             "#7201a8"
            ],
            [
             0.3333333333333333,
             "#9c179e"
            ],
            [
             0.4444444444444444,
             "#bd3786"
            ],
            [
             0.5555555555555556,
             "#d8576b"
            ],
            [
             0.6666666666666666,
             "#ed7953"
            ],
            [
             0.7777777777777778,
             "#fb9f3a"
            ],
            [
             0.8888888888888888,
             "#fdca26"
            ],
            [
             1,
             "#f0f921"
            ]
           ],
           "sequentialminus": [
            [
             0,
             "#0d0887"
            ],
            [
             0.1111111111111111,
             "#46039f"
            ],
            [
             0.2222222222222222,
             "#7201a8"
            ],
            [
             0.3333333333333333,
             "#9c179e"
            ],
            [
             0.4444444444444444,
             "#bd3786"
            ],
            [
             0.5555555555555556,
             "#d8576b"
            ],
            [
             0.6666666666666666,
             "#ed7953"
            ],
            [
             0.7777777777777778,
             "#fb9f3a"
            ],
            [
             0.8888888888888888,
             "#fdca26"
            ],
            [
             1,
             "#f0f921"
            ]
           ]
          },
          "colorway": [
           "#636efa",
           "#EF553B",
           "#00cc96",
           "#ab63fa",
           "#FFA15A",
           "#19d3f3",
           "#FF6692",
           "#B6E880",
           "#FF97FF",
           "#FECB52"
          ],
          "font": {
           "color": "#2a3f5f"
          },
          "geo": {
           "bgcolor": "white",
           "lakecolor": "white",
           "landcolor": "white",
           "showlakes": true,
           "showland": true,
           "subunitcolor": "#C8D4E3"
          },
          "hoverlabel": {
           "align": "left"
          },
          "hovermode": "closest",
          "mapbox": {
           "style": "light"
          },
          "paper_bgcolor": "white",
          "plot_bgcolor": "white",
          "polar": {
           "angularaxis": {
            "gridcolor": "#EBF0F8",
            "linecolor": "#EBF0F8",
            "ticks": ""
           },
           "bgcolor": "white",
           "radialaxis": {
            "gridcolor": "#EBF0F8",
            "linecolor": "#EBF0F8",
            "ticks": ""
           }
          },
          "scene": {
           "xaxis": {
            "backgroundcolor": "white",
            "gridcolor": "#DFE8F3",
            "gridwidth": 2,
            "linecolor": "#EBF0F8",
            "showbackground": true,
            "ticks": "",
            "zerolinecolor": "#EBF0F8"
           },
           "yaxis": {
            "backgroundcolor": "white",
            "gridcolor": "#DFE8F3",
            "gridwidth": 2,
            "linecolor": "#EBF0F8",
            "showbackground": true,
            "ticks": "",
            "zerolinecolor": "#EBF0F8"
           },
           "zaxis": {
            "backgroundcolor": "white",
            "gridcolor": "#DFE8F3",
            "gridwidth": 2,
            "linecolor": "#EBF0F8",
            "showbackground": true,
            "ticks": "",
            "zerolinecolor": "#EBF0F8"
           }
          },
          "shapedefaults": {
           "line": {
            "color": "#2a3f5f"
           }
          },
          "ternary": {
           "aaxis": {
            "gridcolor": "#DFE8F3",
            "linecolor": "#A2B1C6",
            "ticks": ""
           },
           "baxis": {
            "gridcolor": "#DFE8F3",
            "linecolor": "#A2B1C6",
            "ticks": ""
           },
           "bgcolor": "white",
           "caxis": {
            "gridcolor": "#DFE8F3",
            "linecolor": "#A2B1C6",
            "ticks": ""
           }
          },
          "title": {
           "x": 0.05
          },
          "xaxis": {
           "automargin": true,
           "gridcolor": "#EBF0F8",
           "linecolor": "#EBF0F8",
           "ticks": "",
           "title": {
            "standoff": 15
           },
           "zerolinecolor": "#EBF0F8",
           "zerolinewidth": 2
          },
          "yaxis": {
           "automargin": true,
           "gridcolor": "#EBF0F8",
           "linecolor": "#EBF0F8",
           "ticks": "",
           "title": {
            "standoff": 15
           },
           "zerolinecolor": "#EBF0F8",
           "zerolinewidth": 2
          }
         }
        },
        "title": {
         "text": "Purpose"
        },
        "xaxis": {
         "anchor": "y",
         "domain": [
          0,
          1
         ],
         "title": {
          "text": "PURPOSE"
         }
        },
        "yaxis": {
         "anchor": "x",
         "domain": [
          0,
          1
         ],
         "title": {
          "text": "count"
         }
        }
       }
      }
     },
     "metadata": {},
     "output_type": "display_data"
    }
   ],
   "source": [
    "fig=px.histogram(data,x='PURPOSE',title='Purpose')\n",
    "fig.show()"
   ]
  },
  {
   "cell_type": "markdown",
   "id": "0e501aae",
   "metadata": {},
   "source": [
    "\n",
    "Ans3. At what time do people book cabs the most from uber."
   ]
  },
  {
   "cell_type": "code",
   "execution_count": 88,
   "id": "552cba0d",
   "metadata": {},
   "outputs": [
    {
     "data": {
      "application/vnd.plotly.v1+json": {
       "config": {
        "plotlyServerURL": "https://plot.ly"
       },
       "data": [
        {
         "bingroup": "x",
         "hovertemplate": "Time=%{x}<br>count=%{y}<extra></extra>",
         "legendgroup": "",
         "marker": {
          "color": "#636efa",
          "pattern": {
           "shape": ""
          }
         },
         "name": "",
         "orientation": "v",
         "showlegend": false,
         "type": "histogram",
         "x": [
          "Evening",
          "Late Night",
          "Evening",
          "Evening",
          "Afternoon",
          "Evening",
          "Evening",
          "Afternoon",
          "Morning",
          "Afternoon",
          "Afternoon",
          "Evening",
          "Evening",
          "Morning",
          "Morning",
          "Afternoon",
          "Afternoon",
          "Afternoon",
          "Afternoon",
          "Afternoon",
          "Afternoon",
          "Afternoon",
          "Afternoon",
          "Morning",
          "Afternoon",
          "Afternoon",
          "Afternoon",
          "Afternoon",
          "Afternoon",
          "Morning",
          "Morning",
          "Morning",
          "Afternoon",
          "Afternoon",
          "Evening",
          "Evening",
          "Morning",
          "Afternoon",
          "Afternoon",
          "Evening",
          "Evening",
          "Afternoon",
          "Evening",
          "Evening",
          "Evening",
          "Afternoon",
          "Afternoon",
          "Morning",
          "Morning",
          "Afternoon",
          "Afternoon",
          "Evening",
          "Evening",
          "Afternoon",
          "Evening",
          "Evening",
          "Evening",
          "Morning",
          "Morning",
          "Morning",
          "Afternoon",
          "Afternoon",
          "Afternoon",
          "Evening",
          "Evening",
          "Morning",
          "Morning",
          "Afternoon",
          "Afternoon",
          "Afternoon",
          "Morning",
          "Morning",
          "Morning",
          "Afternoon",
          "Afternoon",
          "Afternoon",
          "Afternoon",
          "Afternoon",
          "Evening",
          "Evening",
          "Morning",
          "Afternoon",
          "Afternoon",
          "Afternoon",
          "Afternoon",
          "Evening",
          "Morning",
          "Morning",
          "Afternoon",
          "Afternoon",
          "Afternoon",
          "Afternoon",
          "Afternoon",
          "Afternoon",
          "Late Night",
          "Morning",
          "Afternoon",
          "Afternoon",
          "Morning",
          "Morning",
          "Morning",
          "Afternoon",
          "Evening",
          "Morning",
          "Evening",
          "Afternoon",
          "Afternoon",
          "Afternoon",
          "Afternoon",
          "Morning",
          "Morning",
          "Afternoon",
          "Afternoon",
          "Evening",
          "Night",
          "Late Night",
          "Evening",
          "Late Night",
          "Evening",
          "Evening",
          "Afternoon",
          "Afternoon",
          "Afternoon",
          "Afternoon",
          "Afternoon",
          "Morning",
          "Morning",
          "Morning",
          "Afternoon",
          "Afternoon",
          "Afternoon",
          "Afternoon",
          "Evening",
          "Evening",
          "Night",
          "Afternoon",
          "Afternoon",
          "Night",
          "Afternoon",
          "Evening",
          "Evening",
          "Night",
          "Evening",
          "Night",
          "Night",
          "Late Night",
          "Afternoon",
          "Evening",
          "Morning",
          "Afternoon",
          "Evening",
          "Evening",
          "Morning",
          "Evening",
          "Morning",
          "Evening",
          "Morning",
          "Afternoon",
          "Morning",
          "Afternoon",
          "Afternoon",
          "Evening",
          "Evening",
          "Evening",
          "Night",
          "Afternoon",
          "Afternoon",
          "Afternoon",
          "Evening",
          "Evening",
          "Night",
          "Afternoon",
          "Afternoon",
          "Evening",
          "Evening",
          "Evening",
          "Night",
          "Evening",
          "Night",
          "Morning",
          "Afternoon",
          "Afternoon",
          "Afternoon",
          "Afternoon",
          "Evening",
          "Evening",
          "Evening",
          "Afternoon",
          "Evening",
          "Night",
          "Evening",
          "Evening",
          "Evening",
          "Evening",
          "Night",
          "Evening",
          "Evening",
          "Evening",
          "Late Night",
          "Morning",
          "Afternoon",
          "Evening",
          "Night",
          "Evening",
          "Night",
          "Late Night",
          "Late Night",
          "Evening",
          "Late Night",
          "Evening",
          "Evening",
          "Evening",
          "Late Night",
          "Late Night",
          "Afternoon",
          "Evening",
          "Night",
          "Late Night",
          "Morning",
          "Afternoon",
          "Evening",
          "Night",
          "Morning",
          "Morning",
          "Afternoon",
          "Morning",
          "Morning",
          "Afternoon",
          "Evening",
          "Morning",
          "Morning",
          "Morning",
          "Afternoon",
          "Afternoon",
          "Evening",
          "Evening",
          "Afternoon",
          "Evening",
          "Afternoon",
          "Afternoon",
          "Afternoon",
          "Afternoon",
          "Afternoon",
          "Afternoon",
          "Afternoon",
          "Evening",
          "Morning",
          "Morning",
          "Evening",
          "Evening",
          "Afternoon",
          "Afternoon",
          "Afternoon",
          "Evening",
          "Evening",
          "Evening",
          "Morning",
          "Morning",
          "Evening",
          "Evening",
          "Evening",
          "Evening",
          "Afternoon",
          "Afternoon",
          "Evening",
          "Evening",
          "Night",
          "Afternoon",
          "Afternoon",
          "Afternoon",
          "Afternoon",
          "Evening",
          "Evening",
          "Evening",
          "Afternoon",
          "Afternoon",
          "Afternoon",
          "Evening",
          "Evening",
          "Evening",
          "Evening",
          "Morning",
          "Evening",
          "Evening",
          "Morning",
          "Evening",
          "Morning",
          "Evening",
          "Morning",
          "Morning",
          "Evening",
          "Morning",
          "Morning",
          "Afternoon",
          "Evening",
          "Evening",
          "Evening",
          "Night",
          "Morning",
          "Afternoon",
          "Morning",
          "Evening",
          "Evening",
          "Evening",
          "Morning",
          "Morning",
          "Afternoon",
          "Afternoon",
          "Afternoon",
          "Evening",
          "Evening",
          "Afternoon",
          "Evening",
          "Afternoon",
          "Evening",
          "Evening",
          "Late Night",
          "Evening",
          "Morning",
          "Afternoon",
          "Evening",
          "Evening",
          "Evening",
          "Evening",
          "Afternoon",
          "Afternoon",
          "Afternoon",
          "Evening",
          "Evening",
          "Morning",
          "Afternoon",
          "Afternoon",
          "Afternoon",
          "Evening",
          "Night",
          "Morning",
          "Evening",
          "Evening",
          "Night",
          "Morning",
          "Evening",
          "Evening",
          "Morning",
          "Afternoon",
          "Afternoon",
          "Evening",
          "Evening",
          "Afternoon",
          "Evening",
          "Morning",
          "Afternoon",
          "Afternoon",
          "Afternoon",
          "Afternoon",
          "Afternoon",
          "Evening",
          "Evening",
          "Evening",
          "Evening",
          "Evening",
          "Evening",
          "Morning",
          "Morning",
          "Afternoon",
          "Afternoon",
          "Afternoon",
          "Evening",
          "Morning",
          "Afternoon",
          "Afternoon",
          "Afternoon",
          "Evening",
          "Evening",
          "Morning",
          "Morning",
          "Afternoon",
          "Afternoon",
          "Afternoon",
          "Afternoon",
          "Afternoon",
          "Afternoon",
          "Morning",
          "Morning",
          "Evening",
          "Evening",
          "Afternoon",
          "Afternoon",
          "Evening",
          "Night",
          "Evening",
          "Evening",
          "Evening",
          "Evening",
          "Evening",
          "Evening",
          "Evening",
          "Afternoon",
          "Afternoon",
          "Evening",
          "Evening",
          "Afternoon",
          "Afternoon",
          "Evening",
          "Evening",
          "Afternoon",
          "Afternoon",
          "Evening",
          "Night",
          "Afternoon",
          "Afternoon",
          "Evening",
          "Night",
          "Afternoon",
          "Evening",
          "Evening",
          "Afternoon",
          "Afternoon",
          "Afternoon",
          "Evening",
          "Evening"
         ],
         "xaxis": "x",
         "yaxis": "y"
        }
       ],
       "layout": {
        "barmode": "relative",
        "legend": {
         "tracegroupgap": 0
        },
        "template": {
         "data": {
          "bar": [
           {
            "error_x": {
             "color": "#2a3f5f"
            },
            "error_y": {
             "color": "#2a3f5f"
            },
            "marker": {
             "line": {
              "color": "white",
              "width": 0.5
             },
             "pattern": {
              "fillmode": "overlay",
              "size": 10,
              "solidity": 0.2
             }
            },
            "type": "bar"
           }
          ],
          "barpolar": [
           {
            "marker": {
             "line": {
              "color": "white",
              "width": 0.5
             },
             "pattern": {
              "fillmode": "overlay",
              "size": 10,
              "solidity": 0.2
             }
            },
            "type": "barpolar"
           }
          ],
          "carpet": [
           {
            "aaxis": {
             "endlinecolor": "#2a3f5f",
             "gridcolor": "#C8D4E3",
             "linecolor": "#C8D4E3",
             "minorgridcolor": "#C8D4E3",
             "startlinecolor": "#2a3f5f"
            },
            "baxis": {
             "endlinecolor": "#2a3f5f",
             "gridcolor": "#C8D4E3",
             "linecolor": "#C8D4E3",
             "minorgridcolor": "#C8D4E3",
             "startlinecolor": "#2a3f5f"
            },
            "type": "carpet"
           }
          ],
          "choropleth": [
           {
            "colorbar": {
             "outlinewidth": 0,
             "ticks": ""
            },
            "type": "choropleth"
           }
          ],
          "contour": [
           {
            "colorbar": {
             "outlinewidth": 0,
             "ticks": ""
            },
            "colorscale": [
             [
              0,
              "#0d0887"
             ],
             [
              0.1111111111111111,
              "#46039f"
             ],
             [
              0.2222222222222222,
              "#7201a8"
             ],
             [
              0.3333333333333333,
              "#9c179e"
             ],
             [
              0.4444444444444444,
              "#bd3786"
             ],
             [
              0.5555555555555556,
              "#d8576b"
             ],
             [
              0.6666666666666666,
              "#ed7953"
             ],
             [
              0.7777777777777778,
              "#fb9f3a"
             ],
             [
              0.8888888888888888,
              "#fdca26"
             ],
             [
              1,
              "#f0f921"
             ]
            ],
            "type": "contour"
           }
          ],
          "contourcarpet": [
           {
            "colorbar": {
             "outlinewidth": 0,
             "ticks": ""
            },
            "type": "contourcarpet"
           }
          ],
          "heatmap": [
           {
            "colorbar": {
             "outlinewidth": 0,
             "ticks": ""
            },
            "colorscale": [
             [
              0,
              "#0d0887"
             ],
             [
              0.1111111111111111,
              "#46039f"
             ],
             [
              0.2222222222222222,
              "#7201a8"
             ],
             [
              0.3333333333333333,
              "#9c179e"
             ],
             [
              0.4444444444444444,
              "#bd3786"
             ],
             [
              0.5555555555555556,
              "#d8576b"
             ],
             [
              0.6666666666666666,
              "#ed7953"
             ],
             [
              0.7777777777777778,
              "#fb9f3a"
             ],
             [
              0.8888888888888888,
              "#fdca26"
             ],
             [
              1,
              "#f0f921"
             ]
            ],
            "type": "heatmap"
           }
          ],
          "histogram": [
           {
            "marker": {
             "pattern": {
              "fillmode": "overlay",
              "size": 10,
              "solidity": 0.2
             }
            },
            "type": "histogram"
           }
          ],
          "histogram2d": [
           {
            "colorbar": {
             "outlinewidth": 0,
             "ticks": ""
            },
            "colorscale": [
             [
              0,
              "#0d0887"
             ],
             [
              0.1111111111111111,
              "#46039f"
             ],
             [
              0.2222222222222222,
              "#7201a8"
             ],
             [
              0.3333333333333333,
              "#9c179e"
             ],
             [
              0.4444444444444444,
              "#bd3786"
             ],
             [
              0.5555555555555556,
              "#d8576b"
             ],
             [
              0.6666666666666666,
              "#ed7953"
             ],
             [
              0.7777777777777778,
              "#fb9f3a"
             ],
             [
              0.8888888888888888,
              "#fdca26"
             ],
             [
              1,
              "#f0f921"
             ]
            ],
            "type": "histogram2d"
           }
          ],
          "histogram2dcontour": [
           {
            "colorbar": {
             "outlinewidth": 0,
             "ticks": ""
            },
            "colorscale": [
             [
              0,
              "#0d0887"
             ],
             [
              0.1111111111111111,
              "#46039f"
             ],
             [
              0.2222222222222222,
              "#7201a8"
             ],
             [
              0.3333333333333333,
              "#9c179e"
             ],
             [
              0.4444444444444444,
              "#bd3786"
             ],
             [
              0.5555555555555556,
              "#d8576b"
             ],
             [
              0.6666666666666666,
              "#ed7953"
             ],
             [
              0.7777777777777778,
              "#fb9f3a"
             ],
             [
              0.8888888888888888,
              "#fdca26"
             ],
             [
              1,
              "#f0f921"
             ]
            ],
            "type": "histogram2dcontour"
           }
          ],
          "mesh3d": [
           {
            "colorbar": {
             "outlinewidth": 0,
             "ticks": ""
            },
            "type": "mesh3d"
           }
          ],
          "parcoords": [
           {
            "line": {
             "colorbar": {
              "outlinewidth": 0,
              "ticks": ""
             }
            },
            "type": "parcoords"
           }
          ],
          "pie": [
           {
            "automargin": true,
            "type": "pie"
           }
          ],
          "scatter": [
           {
            "fillpattern": {
             "fillmode": "overlay",
             "size": 10,
             "solidity": 0.2
            },
            "type": "scatter"
           }
          ],
          "scatter3d": [
           {
            "line": {
             "colorbar": {
              "outlinewidth": 0,
              "ticks": ""
             }
            },
            "marker": {
             "colorbar": {
              "outlinewidth": 0,
              "ticks": ""
             }
            },
            "type": "scatter3d"
           }
          ],
          "scattercarpet": [
           {
            "marker": {
             "colorbar": {
              "outlinewidth": 0,
              "ticks": ""
             }
            },
            "type": "scattercarpet"
           }
          ],
          "scattergeo": [
           {
            "marker": {
             "colorbar": {
              "outlinewidth": 0,
              "ticks": ""
             }
            },
            "type": "scattergeo"
           }
          ],
          "scattergl": [
           {
            "marker": {
             "colorbar": {
              "outlinewidth": 0,
              "ticks": ""
             }
            },
            "type": "scattergl"
           }
          ],
          "scattermap": [
           {
            "marker": {
             "colorbar": {
              "outlinewidth": 0,
              "ticks": ""
             }
            },
            "type": "scattermap"
           }
          ],
          "scattermapbox": [
           {
            "marker": {
             "colorbar": {
              "outlinewidth": 0,
              "ticks": ""
             }
            },
            "type": "scattermapbox"
           }
          ],
          "scatterpolar": [
           {
            "marker": {
             "colorbar": {
              "outlinewidth": 0,
              "ticks": ""
             }
            },
            "type": "scatterpolar"
           }
          ],
          "scatterpolargl": [
           {
            "marker": {
             "colorbar": {
              "outlinewidth": 0,
              "ticks": ""
             }
            },
            "type": "scatterpolargl"
           }
          ],
          "scatterternary": [
           {
            "marker": {
             "colorbar": {
              "outlinewidth": 0,
              "ticks": ""
             }
            },
            "type": "scatterternary"
           }
          ],
          "surface": [
           {
            "colorbar": {
             "outlinewidth": 0,
             "ticks": ""
            },
            "colorscale": [
             [
              0,
              "#0d0887"
             ],
             [
              0.1111111111111111,
              "#46039f"
             ],
             [
              0.2222222222222222,
              "#7201a8"
             ],
             [
              0.3333333333333333,
              "#9c179e"
             ],
             [
              0.4444444444444444,
              "#bd3786"
             ],
             [
              0.5555555555555556,
              "#d8576b"
             ],
             [
              0.6666666666666666,
              "#ed7953"
             ],
             [
              0.7777777777777778,
              "#fb9f3a"
             ],
             [
              0.8888888888888888,
              "#fdca26"
             ],
             [
              1,
              "#f0f921"
             ]
            ],
            "type": "surface"
           }
          ],
          "table": [
           {
            "cells": {
             "fill": {
              "color": "#EBF0F8"
             },
             "line": {
              "color": "white"
             }
            },
            "header": {
             "fill": {
              "color": "#C8D4E3"
             },
             "line": {
              "color": "white"
             }
            },
            "type": "table"
           }
          ]
         },
         "layout": {
          "annotationdefaults": {
           "arrowcolor": "#2a3f5f",
           "arrowhead": 0,
           "arrowwidth": 1
          },
          "autotypenumbers": "strict",
          "coloraxis": {
           "colorbar": {
            "outlinewidth": 0,
            "ticks": ""
           }
          },
          "colorscale": {
           "diverging": [
            [
             0,
             "#8e0152"
            ],
            [
             0.1,
             "#c51b7d"
            ],
            [
             0.2,
             "#de77ae"
            ],
            [
             0.3,
             "#f1b6da"
            ],
            [
             0.4,
             "#fde0ef"
            ],
            [
             0.5,
             "#f7f7f7"
            ],
            [
             0.6,
             "#e6f5d0"
            ],
            [
             0.7,
             "#b8e186"
            ],
            [
             0.8,
             "#7fbc41"
            ],
            [
             0.9,
             "#4d9221"
            ],
            [
             1,
             "#276419"
            ]
           ],
           "sequential": [
            [
             0,
             "#0d0887"
            ],
            [
             0.1111111111111111,
             "#46039f"
            ],
            [
             0.2222222222222222,
             "#7201a8"
            ],
            [
             0.3333333333333333,
             "#9c179e"
            ],
            [
             0.4444444444444444,
             "#bd3786"
            ],
            [
             0.5555555555555556,
             "#d8576b"
            ],
            [
             0.6666666666666666,
             "#ed7953"
            ],
            [
             0.7777777777777778,
             "#fb9f3a"
            ],
            [
             0.8888888888888888,
             "#fdca26"
            ],
            [
             1,
             "#f0f921"
            ]
           ],
           "sequentialminus": [
            [
             0,
             "#0d0887"
            ],
            [
             0.1111111111111111,
             "#46039f"
            ],
            [
             0.2222222222222222,
             "#7201a8"
            ],
            [
             0.3333333333333333,
             "#9c179e"
            ],
            [
             0.4444444444444444,
             "#bd3786"
            ],
            [
             0.5555555555555556,
             "#d8576b"
            ],
            [
             0.6666666666666666,
             "#ed7953"
            ],
            [
             0.7777777777777778,
             "#fb9f3a"
            ],
            [
             0.8888888888888888,
             "#fdca26"
            ],
            [
             1,
             "#f0f921"
            ]
           ]
          },
          "colorway": [
           "#636efa",
           "#EF553B",
           "#00cc96",
           "#ab63fa",
           "#FFA15A",
           "#19d3f3",
           "#FF6692",
           "#B6E880",
           "#FF97FF",
           "#FECB52"
          ],
          "font": {
           "color": "#2a3f5f"
          },
          "geo": {
           "bgcolor": "white",
           "lakecolor": "white",
           "landcolor": "white",
           "showlakes": true,
           "showland": true,
           "subunitcolor": "#C8D4E3"
          },
          "hoverlabel": {
           "align": "left"
          },
          "hovermode": "closest",
          "mapbox": {
           "style": "light"
          },
          "paper_bgcolor": "white",
          "plot_bgcolor": "white",
          "polar": {
           "angularaxis": {
            "gridcolor": "#EBF0F8",
            "linecolor": "#EBF0F8",
            "ticks": ""
           },
           "bgcolor": "white",
           "radialaxis": {
            "gridcolor": "#EBF0F8",
            "linecolor": "#EBF0F8",
            "ticks": ""
           }
          },
          "scene": {
           "xaxis": {
            "backgroundcolor": "white",
            "gridcolor": "#DFE8F3",
            "gridwidth": 2,
            "linecolor": "#EBF0F8",
            "showbackground": true,
            "ticks": "",
            "zerolinecolor": "#EBF0F8"
           },
           "yaxis": {
            "backgroundcolor": "white",
            "gridcolor": "#DFE8F3",
            "gridwidth": 2,
            "linecolor": "#EBF0F8",
            "showbackground": true,
            "ticks": "",
            "zerolinecolor": "#EBF0F8"
           },
           "zaxis": {
            "backgroundcolor": "white",
            "gridcolor": "#DFE8F3",
            "gridwidth": 2,
            "linecolor": "#EBF0F8",
            "showbackground": true,
            "ticks": "",
            "zerolinecolor": "#EBF0F8"
           }
          },
          "shapedefaults": {
           "line": {
            "color": "#2a3f5f"
           }
          },
          "ternary": {
           "aaxis": {
            "gridcolor": "#DFE8F3",
            "linecolor": "#A2B1C6",
            "ticks": ""
           },
           "baxis": {
            "gridcolor": "#DFE8F3",
            "linecolor": "#A2B1C6",
            "ticks": ""
           },
           "bgcolor": "white",
           "caxis": {
            "gridcolor": "#DFE8F3",
            "linecolor": "#A2B1C6",
            "ticks": ""
           }
          },
          "title": {
           "x": 0.05
          },
          "xaxis": {
           "automargin": true,
           "gridcolor": "#EBF0F8",
           "linecolor": "#EBF0F8",
           "ticks": "",
           "title": {
            "standoff": 15
           },
           "zerolinecolor": "#EBF0F8",
           "zerolinewidth": 2
          },
          "yaxis": {
           "automargin": true,
           "gridcolor": "#EBF0F8",
           "linecolor": "#EBF0F8",
           "ticks": "",
           "title": {
            "standoff": 15
           },
           "zerolinecolor": "#EBF0F8",
           "zerolinewidth": 2
          }
         }
        },
        "title": {
         "text": "Time People Book Cabs"
        },
        "xaxis": {
         "anchor": "y",
         "domain": [
          0,
          1
         ],
         "title": {
          "text": "Time"
         }
        },
        "yaxis": {
         "anchor": "x",
         "domain": [
          0,
          1
         ],
         "title": {
          "text": "count"
         }
        }
       }
      }
     },
     "metadata": {},
     "output_type": "display_data"
    }
   ],
   "source": [
    "fig=px.histogram(data,x='Time',title='Time People Book Cabs')\n",
    "fig.show()"
   ]
  },
  {
   "cell_type": "markdown",
   "id": "4d1e8530",
   "metadata": {},
   "source": [
    "Ans4. in which month do people book uber rides less frequently."
   ]
  },
  {
   "cell_type": "code",
   "execution_count": 89,
   "id": "8c3d80cb",
   "metadata": {},
   "outputs": [
    {
     "data": {
      "application/vnd.plotly.v1+json": {
       "config": {
        "plotlyServerURL": "https://plot.ly"
       },
       "data": [
        {
         "bingroup": "x",
         "hovertemplate": "Month=%{x}<br>count=%{y}<extra></extra>",
         "legendgroup": "",
         "marker": {
          "color": "#17BECF",
          "pattern": {
           "shape": ""
          }
         },
         "name": "",
         "orientation": "v",
         "showlegend": false,
         "type": "histogram",
         "x": [
          "January",
          "January",
          "January",
          "January",
          "January",
          "January",
          "January",
          "January",
          "January",
          "January",
          "January",
          "January",
          "January",
          "January",
          "January",
          "January",
          "January",
          "January",
          "January",
          "January",
          "January",
          "January",
          "January",
          "February",
          "February",
          "February",
          "February",
          "February",
          "February",
          "February",
          "February",
          "February",
          "February",
          "February",
          "February",
          "February",
          "February",
          "February",
          "February",
          "February",
          "February",
          "February",
          "February",
          "February",
          "February",
          "February",
          "February",
          "February",
          "February",
          "February",
          "February",
          "February",
          "February",
          "February",
          "February",
          "February",
          "February",
          "February",
          "February",
          "February",
          "February",
          "February",
          "February",
          "March",
          "March",
          "March",
          "March",
          "March",
          "March",
          "March",
          "March",
          "March",
          "March",
          "March",
          "March",
          "March",
          "March",
          "March",
          "March",
          "March",
          "March",
          "March",
          "March",
          "March",
          "March",
          "March",
          "March",
          "March",
          "March",
          "March",
          "March",
          "March",
          "March",
          "March",
          "March",
          "March",
          "March",
          "March",
          "March",
          "March",
          "March",
          "March",
          "March",
          "March",
          "March",
          "April",
          "April",
          "April",
          "April",
          "April",
          "April",
          "April",
          "April",
          "April",
          "April",
          "April",
          "April",
          "April",
          "April",
          "April",
          "April",
          "April",
          "April",
          "April",
          "April",
          "April",
          "April",
          "April",
          "April",
          "April",
          "May",
          "May",
          "May",
          "May",
          "May",
          "May",
          "May",
          "May",
          "May",
          "May",
          "May",
          "May",
          "May",
          "May",
          "May",
          "May",
          "May",
          "May",
          "May",
          "May",
          "May",
          "May",
          "May",
          "May",
          "May",
          "May",
          "June",
          "June",
          "June",
          "June",
          "June",
          "June",
          "June",
          "June",
          "June",
          "June",
          "June",
          "June",
          "June",
          "June",
          "June",
          "June",
          "June",
          "June",
          "June",
          "June",
          "June",
          "June",
          "June",
          "June",
          "June",
          "June",
          "June",
          "June",
          "June",
          "June",
          "June",
          "June",
          "June",
          "June",
          "June",
          "June",
          "June",
          "June",
          "June",
          "June",
          "June",
          "June",
          "July",
          "July",
          "July",
          "July",
          "July",
          "July",
          "July",
          "July",
          "July",
          "July",
          "July",
          "July",
          "July",
          "July",
          "July",
          "July",
          "July",
          "July",
          "July",
          "July",
          "July",
          "July",
          "July",
          "July",
          "July",
          "July",
          "July",
          "July",
          "July",
          "July",
          "July",
          "July",
          "July",
          "July",
          "July",
          "July",
          "July",
          "July",
          "July",
          "July",
          "August",
          "August",
          "August",
          "August",
          "August",
          "August",
          "August",
          "August",
          "August",
          "August",
          "August",
          "August",
          "August",
          "August",
          "August",
          "August",
          "August",
          "August",
          "August",
          "August",
          "August",
          "August",
          "August",
          "August",
          "August",
          "August",
          "August",
          "August",
          "August",
          "August",
          "August",
          "August",
          "August",
          "August",
          "August",
          "August",
          "August",
          "August",
          "August",
          "August",
          "August",
          "August",
          "August",
          "September",
          "September",
          "September",
          "September",
          "September",
          "September",
          "September",
          "September",
          "September",
          "September",
          "September",
          "September",
          "September",
          "October",
          "October",
          "October",
          "October",
          "October",
          "October",
          "October",
          "October",
          "October",
          "October",
          "October",
          "October",
          "October",
          "October",
          "October",
          "October",
          "October",
          "October",
          "October",
          "October",
          "October",
          "October",
          "October",
          "October",
          "November",
          "November",
          "November",
          "November",
          "November",
          "November",
          "November",
          "November",
          "November",
          "November",
          "November",
          "November",
          "November",
          "November",
          "November",
          "November",
          "November",
          "November",
          "November",
          "November",
          "November",
          "November",
          "November",
          "November",
          "November",
          "November",
          "November",
          "November",
          "November",
          "November",
          "November",
          "November",
          "November",
          "November",
          "November",
          "November",
          "November",
          "November",
          "November",
          "November",
          "November",
          "November",
          "November",
          "November",
          "November",
          "November",
          "November",
          "November",
          "November",
          "November",
          "November",
          "November",
          "November",
          "November",
          "November",
          "November",
          "November",
          "November",
          "November",
          "November",
          "November",
          "November",
          "November",
          "December",
          "December",
          "December",
          "December",
          "December",
          "December",
          "December",
          "December",
          "December",
          "December",
          "December",
          "December",
          "December",
          "December",
          "December",
          "December",
          "December",
          "December",
          "December",
          "December",
          "December",
          "December",
          "December",
          "December",
          "December",
          "December",
          "December",
          "December",
          "December",
          "December",
          "December",
          "December",
          "December",
          "December",
          "December",
          "December",
          "December",
          "December",
          "December"
         ],
         "xaxis": "x",
         "yaxis": "y"
        }
       ],
       "layout": {
        "barmode": "relative",
        "legend": {
         "tracegroupgap": 0
        },
        "template": {
         "data": {
          "bar": [
           {
            "error_x": {
             "color": "#2a3f5f"
            },
            "error_y": {
             "color": "#2a3f5f"
            },
            "marker": {
             "line": {
              "color": "white",
              "width": 0.5
             },
             "pattern": {
              "fillmode": "overlay",
              "size": 10,
              "solidity": 0.2
             }
            },
            "type": "bar"
           }
          ],
          "barpolar": [
           {
            "marker": {
             "line": {
              "color": "white",
              "width": 0.5
             },
             "pattern": {
              "fillmode": "overlay",
              "size": 10,
              "solidity": 0.2
             }
            },
            "type": "barpolar"
           }
          ],
          "carpet": [
           {
            "aaxis": {
             "endlinecolor": "#2a3f5f",
             "gridcolor": "#C8D4E3",
             "linecolor": "#C8D4E3",
             "minorgridcolor": "#C8D4E3",
             "startlinecolor": "#2a3f5f"
            },
            "baxis": {
             "endlinecolor": "#2a3f5f",
             "gridcolor": "#C8D4E3",
             "linecolor": "#C8D4E3",
             "minorgridcolor": "#C8D4E3",
             "startlinecolor": "#2a3f5f"
            },
            "type": "carpet"
           }
          ],
          "choropleth": [
           {
            "colorbar": {
             "outlinewidth": 0,
             "ticks": ""
            },
            "type": "choropleth"
           }
          ],
          "contour": [
           {
            "colorbar": {
             "outlinewidth": 0,
             "ticks": ""
            },
            "colorscale": [
             [
              0,
              "#0d0887"
             ],
             [
              0.1111111111111111,
              "#46039f"
             ],
             [
              0.2222222222222222,
              "#7201a8"
             ],
             [
              0.3333333333333333,
              "#9c179e"
             ],
             [
              0.4444444444444444,
              "#bd3786"
             ],
             [
              0.5555555555555556,
              "#d8576b"
             ],
             [
              0.6666666666666666,
              "#ed7953"
             ],
             [
              0.7777777777777778,
              "#fb9f3a"
             ],
             [
              0.8888888888888888,
              "#fdca26"
             ],
             [
              1,
              "#f0f921"
             ]
            ],
            "type": "contour"
           }
          ],
          "contourcarpet": [
           {
            "colorbar": {
             "outlinewidth": 0,
             "ticks": ""
            },
            "type": "contourcarpet"
           }
          ],
          "heatmap": [
           {
            "colorbar": {
             "outlinewidth": 0,
             "ticks": ""
            },
            "colorscale": [
             [
              0,
              "#0d0887"
             ],
             [
              0.1111111111111111,
              "#46039f"
             ],
             [
              0.2222222222222222,
              "#7201a8"
             ],
             [
              0.3333333333333333,
              "#9c179e"
             ],
             [
              0.4444444444444444,
              "#bd3786"
             ],
             [
              0.5555555555555556,
              "#d8576b"
             ],
             [
              0.6666666666666666,
              "#ed7953"
             ],
             [
              0.7777777777777778,
              "#fb9f3a"
             ],
             [
              0.8888888888888888,
              "#fdca26"
             ],
             [
              1,
              "#f0f921"
             ]
            ],
            "type": "heatmap"
           }
          ],
          "histogram": [
           {
            "marker": {
             "pattern": {
              "fillmode": "overlay",
              "size": 10,
              "solidity": 0.2
             }
            },
            "type": "histogram"
           }
          ],
          "histogram2d": [
           {
            "colorbar": {
             "outlinewidth": 0,
             "ticks": ""
            },
            "colorscale": [
             [
              0,
              "#0d0887"
             ],
             [
              0.1111111111111111,
              "#46039f"
             ],
             [
              0.2222222222222222,
              "#7201a8"
             ],
             [
              0.3333333333333333,
              "#9c179e"
             ],
             [
              0.4444444444444444,
              "#bd3786"
             ],
             [
              0.5555555555555556,
              "#d8576b"
             ],
             [
              0.6666666666666666,
              "#ed7953"
             ],
             [
              0.7777777777777778,
              "#fb9f3a"
             ],
             [
              0.8888888888888888,
              "#fdca26"
             ],
             [
              1,
              "#f0f921"
             ]
            ],
            "type": "histogram2d"
           }
          ],
          "histogram2dcontour": [
           {
            "colorbar": {
             "outlinewidth": 0,
             "ticks": ""
            },
            "colorscale": [
             [
              0,
              "#0d0887"
             ],
             [
              0.1111111111111111,
              "#46039f"
             ],
             [
              0.2222222222222222,
              "#7201a8"
             ],
             [
              0.3333333333333333,
              "#9c179e"
             ],
             [
              0.4444444444444444,
              "#bd3786"
             ],
             [
              0.5555555555555556,
              "#d8576b"
             ],
             [
              0.6666666666666666,
              "#ed7953"
             ],
             [
              0.7777777777777778,
              "#fb9f3a"
             ],
             [
              0.8888888888888888,
              "#fdca26"
             ],
             [
              1,
              "#f0f921"
             ]
            ],
            "type": "histogram2dcontour"
           }
          ],
          "mesh3d": [
           {
            "colorbar": {
             "outlinewidth": 0,
             "ticks": ""
            },
            "type": "mesh3d"
           }
          ],
          "parcoords": [
           {
            "line": {
             "colorbar": {
              "outlinewidth": 0,
              "ticks": ""
             }
            },
            "type": "parcoords"
           }
          ],
          "pie": [
           {
            "automargin": true,
            "type": "pie"
           }
          ],
          "scatter": [
           {
            "fillpattern": {
             "fillmode": "overlay",
             "size": 10,
             "solidity": 0.2
            },
            "type": "scatter"
           }
          ],
          "scatter3d": [
           {
            "line": {
             "colorbar": {
              "outlinewidth": 0,
              "ticks": ""
             }
            },
            "marker": {
             "colorbar": {
              "outlinewidth": 0,
              "ticks": ""
             }
            },
            "type": "scatter3d"
           }
          ],
          "scattercarpet": [
           {
            "marker": {
             "colorbar": {
              "outlinewidth": 0,
              "ticks": ""
             }
            },
            "type": "scattercarpet"
           }
          ],
          "scattergeo": [
           {
            "marker": {
             "colorbar": {
              "outlinewidth": 0,
              "ticks": ""
             }
            },
            "type": "scattergeo"
           }
          ],
          "scattergl": [
           {
            "marker": {
             "colorbar": {
              "outlinewidth": 0,
              "ticks": ""
             }
            },
            "type": "scattergl"
           }
          ],
          "scattermap": [
           {
            "marker": {
             "colorbar": {
              "outlinewidth": 0,
              "ticks": ""
             }
            },
            "type": "scattermap"
           }
          ],
          "scattermapbox": [
           {
            "marker": {
             "colorbar": {
              "outlinewidth": 0,
              "ticks": ""
             }
            },
            "type": "scattermapbox"
           }
          ],
          "scatterpolar": [
           {
            "marker": {
             "colorbar": {
              "outlinewidth": 0,
              "ticks": ""
             }
            },
            "type": "scatterpolar"
           }
          ],
          "scatterpolargl": [
           {
            "marker": {
             "colorbar": {
              "outlinewidth": 0,
              "ticks": ""
             }
            },
            "type": "scatterpolargl"
           }
          ],
          "scatterternary": [
           {
            "marker": {
             "colorbar": {
              "outlinewidth": 0,
              "ticks": ""
             }
            },
            "type": "scatterternary"
           }
          ],
          "surface": [
           {
            "colorbar": {
             "outlinewidth": 0,
             "ticks": ""
            },
            "colorscale": [
             [
              0,
              "#0d0887"
             ],
             [
              0.1111111111111111,
              "#46039f"
             ],
             [
              0.2222222222222222,
              "#7201a8"
             ],
             [
              0.3333333333333333,
              "#9c179e"
             ],
             [
              0.4444444444444444,
              "#bd3786"
             ],
             [
              0.5555555555555556,
              "#d8576b"
             ],
             [
              0.6666666666666666,
              "#ed7953"
             ],
             [
              0.7777777777777778,
              "#fb9f3a"
             ],
             [
              0.8888888888888888,
              "#fdca26"
             ],
             [
              1,
              "#f0f921"
             ]
            ],
            "type": "surface"
           }
          ],
          "table": [
           {
            "cells": {
             "fill": {
              "color": "#EBF0F8"
             },
             "line": {
              "color": "white"
             }
            },
            "header": {
             "fill": {
              "color": "#C8D4E3"
             },
             "line": {
              "color": "white"
             }
            },
            "type": "table"
           }
          ]
         },
         "layout": {
          "annotationdefaults": {
           "arrowcolor": "#2a3f5f",
           "arrowhead": 0,
           "arrowwidth": 1
          },
          "autotypenumbers": "strict",
          "coloraxis": {
           "colorbar": {
            "outlinewidth": 0,
            "ticks": ""
           }
          },
          "colorscale": {
           "diverging": [
            [
             0,
             "#8e0152"
            ],
            [
             0.1,
             "#c51b7d"
            ],
            [
             0.2,
             "#de77ae"
            ],
            [
             0.3,
             "#f1b6da"
            ],
            [
             0.4,
             "#fde0ef"
            ],
            [
             0.5,
             "#f7f7f7"
            ],
            [
             0.6,
             "#e6f5d0"
            ],
            [
             0.7,
             "#b8e186"
            ],
            [
             0.8,
             "#7fbc41"
            ],
            [
             0.9,
             "#4d9221"
            ],
            [
             1,
             "#276419"
            ]
           ],
           "sequential": [
            [
             0,
             "#0d0887"
            ],
            [
             0.1111111111111111,
             "#46039f"
            ],
            [
             0.2222222222222222,
             "#7201a8"
            ],
            [
             0.3333333333333333,
             "#9c179e"
            ],
            [
             0.4444444444444444,
             "#bd3786"
            ],
            [
             0.5555555555555556,
             "#d8576b"
            ],
            [
             0.6666666666666666,
             "#ed7953"
            ],
            [
             0.7777777777777778,
             "#fb9f3a"
            ],
            [
             0.8888888888888888,
             "#fdca26"
            ],
            [
             1,
             "#f0f921"
            ]
           ],
           "sequentialminus": [
            [
             0,
             "#0d0887"
            ],
            [
             0.1111111111111111,
             "#46039f"
            ],
            [
             0.2222222222222222,
             "#7201a8"
            ],
            [
             0.3333333333333333,
             "#9c179e"
            ],
            [
             0.4444444444444444,
             "#bd3786"
            ],
            [
             0.5555555555555556,
             "#d8576b"
            ],
            [
             0.6666666666666666,
             "#ed7953"
            ],
            [
             0.7777777777777778,
             "#fb9f3a"
            ],
            [
             0.8888888888888888,
             "#fdca26"
            ],
            [
             1,
             "#f0f921"
            ]
           ]
          },
          "colorway": [
           "#636efa",
           "#EF553B",
           "#00cc96",
           "#ab63fa",
           "#FFA15A",
           "#19d3f3",
           "#FF6692",
           "#B6E880",
           "#FF97FF",
           "#FECB52"
          ],
          "font": {
           "color": "#2a3f5f"
          },
          "geo": {
           "bgcolor": "white",
           "lakecolor": "white",
           "landcolor": "white",
           "showlakes": true,
           "showland": true,
           "subunitcolor": "#C8D4E3"
          },
          "hoverlabel": {
           "align": "left"
          },
          "hovermode": "closest",
          "mapbox": {
           "style": "light"
          },
          "paper_bgcolor": "white",
          "plot_bgcolor": "white",
          "polar": {
           "angularaxis": {
            "gridcolor": "#EBF0F8",
            "linecolor": "#EBF0F8",
            "ticks": ""
           },
           "bgcolor": "white",
           "radialaxis": {
            "gridcolor": "#EBF0F8",
            "linecolor": "#EBF0F8",
            "ticks": ""
           }
          },
          "scene": {
           "xaxis": {
            "backgroundcolor": "white",
            "gridcolor": "#DFE8F3",
            "gridwidth": 2,
            "linecolor": "#EBF0F8",
            "showbackground": true,
            "ticks": "",
            "zerolinecolor": "#EBF0F8"
           },
           "yaxis": {
            "backgroundcolor": "white",
            "gridcolor": "#DFE8F3",
            "gridwidth": 2,
            "linecolor": "#EBF0F8",
            "showbackground": true,
            "ticks": "",
            "zerolinecolor": "#EBF0F8"
           },
           "zaxis": {
            "backgroundcolor": "white",
            "gridcolor": "#DFE8F3",
            "gridwidth": 2,
            "linecolor": "#EBF0F8",
            "showbackground": true,
            "ticks": "",
            "zerolinecolor": "#EBF0F8"
           }
          },
          "shapedefaults": {
           "line": {
            "color": "#2a3f5f"
           }
          },
          "ternary": {
           "aaxis": {
            "gridcolor": "#DFE8F3",
            "linecolor": "#A2B1C6",
            "ticks": ""
           },
           "baxis": {
            "gridcolor": "#DFE8F3",
            "linecolor": "#A2B1C6",
            "ticks": ""
           },
           "bgcolor": "white",
           "caxis": {
            "gridcolor": "#DFE8F3",
            "linecolor": "#A2B1C6",
            "ticks": ""
           }
          },
          "title": {
           "x": 0.05
          },
          "xaxis": {
           "automargin": true,
           "gridcolor": "#EBF0F8",
           "linecolor": "#EBF0F8",
           "ticks": "",
           "title": {
            "standoff": 15
           },
           "zerolinecolor": "#EBF0F8",
           "zerolinewidth": 2
          },
          "yaxis": {
           "automargin": true,
           "gridcolor": "#EBF0F8",
           "linecolor": "#EBF0F8",
           "ticks": "",
           "title": {
            "standoff": 15
           },
           "zerolinecolor": "#EBF0F8",
           "zerolinewidth": 2
          }
         }
        },
        "title": {
         "text": "month"
        },
        "xaxis": {
         "anchor": "y",
         "domain": [
          0,
          1
         ],
         "title": {
          "text": "Month"
         }
        },
        "yaxis": {
         "anchor": "x",
         "domain": [
          0,
          1
         ],
         "title": {
          "text": "count"
         }
        }
       }
      }
     },
     "metadata": {},
     "output_type": "display_data"
    }
   ],
   "source": [
    "fig=px.histogram(data, x='Month', title='month', color_discrete_sequence=px.colors.qualitative.D3_r)\n",
    "fig.show()"
   ]
  },
  {
   "cell_type": "markdown",
   "id": "34a4fe58",
   "metadata": {},
   "source": [
    "Ans5. on which days of the week do people book uber rides the most."
   ]
  },
  {
   "cell_type": "code",
   "execution_count": 90,
   "id": "5a6ab119",
   "metadata": {},
   "outputs": [
    {
     "data": {
      "application/vnd.plotly.v1+json": {
       "config": {
        "plotlyServerURL": "https://plot.ly"
       },
       "data": [
        {
         "bingroup": "x",
         "hovertemplate": "day=%{x}<br>count=%{y}<extra></extra>",
         "legendgroup": "",
         "marker": {
          "color": "#636efa",
          "pattern": {
           "shape": ""
          }
         },
         "name": "",
         "orientation": "v",
         "showlegend": false,
         "type": "histogram",
         "x": [
          "Friday",
          "Saturday",
          "Saturday",
          "Tuesday",
          "Wednesday",
          "Wednesday",
          "Wednesday",
          "Thursday",
          "Sunday",
          "Sunday",
          "Sunday",
          "Sunday",
          "Sunday",
          "Monday",
          "Monday",
          "Monday",
          "Monday",
          "Tuesday",
          "Tuesday",
          "Tuesday",
          "Tuesday",
          "Tuesday",
          "Tuesday",
          "Monday",
          "Monday",
          "Monday",
          "Tuesday",
          "Tuesday",
          "Tuesday",
          "Thursday",
          "Thursday",
          "Thursday",
          "Thursday",
          "Thursday",
          "Thursday",
          "Thursday",
          "Friday",
          "Friday",
          "Saturday",
          "Saturday",
          "Saturday",
          "Sunday",
          "Sunday",
          "Sunday",
          "Sunday",
          "Monday",
          "Monday",
          "Tuesday",
          "Tuesday",
          "Tuesday",
          "Tuesday",
          "Tuesday",
          "Tuesday",
          "Thursday",
          "Thursday",
          "Thursday",
          "Thursday",
          "Friday",
          "Friday",
          "Friday",
          "Friday",
          "Friday",
          "Friday",
          "Tuesday",
          "Tuesday",
          "Thursday",
          "Thursday",
          "Thursday",
          "Thursday",
          "Thursday",
          "Friday",
          "Friday",
          "Friday",
          "Friday",
          "Friday",
          "Friday",
          "Friday",
          "Friday",
          "Friday",
          "Friday",
          "Saturday",
          "Saturday",
          "Saturday",
          "Saturday",
          "Saturday",
          "Saturday",
          "Monday",
          "Monday",
          "Monday",
          "Monday",
          "Monday",
          "Tuesday",
          "Tuesday",
          "Tuesday",
          "Thursday",
          "Thursday",
          "Thursday",
          "Thursday",
          "Friday",
          "Friday",
          "Friday",
          "Friday",
          "Friday",
          "Saturday",
          "Saturday",
          "Friday",
          "Friday",
          "Friday",
          "Friday",
          "Saturday",
          "Saturday",
          "Saturday",
          "Saturday",
          "Saturday",
          "Saturday",
          "Sunday",
          "Tuesday",
          "Wednesday",
          "Thursday",
          "Thursday",
          "Friday",
          "Friday",
          "Friday",
          "Friday",
          "Friday",
          "Tuesday",
          "Tuesday",
          "Tuesday",
          "Tuesday",
          "Tuesday",
          "Sunday",
          "Sunday",
          "Sunday",
          "Sunday",
          "Sunday",
          "Monday",
          "Monday",
          "Tuesday",
          "Wednesday",
          "Wednesday",
          "Wednesday",
          "Wednesday",
          "Thursday",
          "Thursday",
          "Thursday",
          "Friday",
          "Friday",
          "Friday",
          "Monday",
          "Monday",
          "Monday",
          "Monday",
          "Tuesday",
          "Tuesday",
          "Wednesday",
          "Wednesday",
          "Wednesday",
          "Wednesday",
          "Friday",
          "Friday",
          "Friday",
          "Friday",
          "Friday",
          "Friday",
          "Friday",
          "Sunday",
          "Sunday",
          "Sunday",
          "Sunday",
          "Sunday",
          "Sunday",
          "Monday",
          "Monday",
          "Monday",
          "Monday",
          "Monday",
          "Monday",
          "Tuesday",
          "Tuesday",
          "Wednesday",
          "Wednesday",
          "Wednesday",
          "Wednesday",
          "Wednesday",
          "Wednesday",
          "Wednesday",
          "Wednesday",
          "Friday",
          "Friday",
          "Friday",
          "Saturday",
          "Saturday",
          "Saturday",
          "Saturday",
          "Saturday",
          "Sunday",
          "Sunday",
          "Sunday",
          "Friday",
          "Friday",
          "Friday",
          "Friday",
          "Friday",
          "Saturday",
          "Saturday",
          "Sunday",
          "Sunday",
          "Sunday",
          "Monday",
          "Monday",
          "Monday",
          "Monday",
          "Tuesday",
          "Tuesday",
          "Tuesday",
          "Tuesday",
          "Tuesday",
          "Wednesday",
          "Wednesday",
          "Wednesday",
          "Wednesday",
          "Wednesday",
          "Thursday",
          "Thursday",
          "Thursday",
          "Friday",
          "Friday",
          "Friday",
          "Friday",
          "Saturday",
          "Saturday",
          "Saturday",
          "Sunday",
          "Sunday",
          "Sunday",
          "Sunday",
          "Tuesday",
          "Tuesday",
          "Monday",
          "Monday",
          "Monday",
          "Monday",
          "Monday",
          "Monday",
          "Monday",
          "Monday",
          "Tuesday",
          "Tuesday",
          "Tuesday",
          "Tuesday",
          "Wednesday",
          "Wednesday",
          "Wednesday",
          "Friday",
          "Friday",
          "Friday",
          "Saturday",
          "Saturday",
          "Sunday",
          "Sunday",
          "Sunday",
          "Sunday",
          "Monday",
          "Monday",
          "Monday",
          "Monday",
          "Monday",
          "Tuesday",
          "Tuesday",
          "Tuesday",
          "Wednesday",
          "Wednesday",
          "Wednesday",
          "Wednesday",
          "Thursday",
          "Thursday",
          "Thursday",
          "Thursday",
          "Thursday",
          "Friday",
          "Friday",
          "Thursday",
          "Thursday",
          "Thursday",
          "Friday",
          "Friday",
          "Monday",
          "Tuesday",
          "Saturday",
          "Sunday",
          "Sunday",
          "Monday",
          "Monday",
          "Monday",
          "Monday",
          "Monday",
          "Monday",
          "Monday",
          "Tuesday",
          "Tuesday",
          "Thursday",
          "Thursday",
          "Thursday",
          "Thursday",
          "Friday",
          "Friday",
          "Friday",
          "Friday",
          "Friday",
          "Friday",
          "Friday",
          "Saturday",
          "Saturday",
          "Sunday",
          "Monday",
          "Monday",
          "Tuesday",
          "Wednesday",
          "Tuesday",
          "Tuesday",
          "Tuesday",
          "Tuesday",
          "Tuesday",
          "Tuesday",
          "Wednesday",
          "Wednesday",
          "Wednesday",
          "Wednesday",
          "Wednesday",
          "Thursday",
          "Thursday",
          "Thursday",
          "Thursday",
          "Thursday",
          "Thursday",
          "Friday",
          "Friday",
          "Friday",
          "Friday",
          "Saturday",
          "Saturday",
          "Saturday",
          "Sunday",
          "Sunday",
          "Sunday",
          "Sunday",
          "Sunday",
          "Monday",
          "Monday",
          "Tuesday",
          "Tuesday",
          "Tuesday",
          "Tuesday",
          "Wednesday",
          "Wednesday",
          "Wednesday",
          "Wednesday",
          "Wednesday",
          "Wednesday",
          "Wednesday",
          "Wednesday",
          "Thursday",
          "Thursday",
          "Thursday",
          "Thursday",
          "Thursday",
          "Thursday",
          "Friday",
          "Friday",
          "Friday",
          "Friday",
          "Friday",
          "Friday",
          "Saturday",
          "Saturday",
          "Saturday",
          "Saturday",
          "Saturday",
          "Saturday",
          "Saturday",
          "Saturday",
          "Thursday",
          "Thursday",
          "Thursday",
          "Thursday",
          "Friday",
          "Friday",
          "Friday",
          "Friday",
          "Saturday",
          "Saturday",
          "Saturday",
          "Sunday",
          "Sunday",
          "Monday",
          "Monday",
          "Wednesday",
          "Wednesday",
          "Wednesday",
          "Wednesday",
          "Thursday",
          "Thursday",
          "Thursday",
          "Thursday",
          "Friday",
          "Friday",
          "Friday",
          "Friday",
          "Saturday",
          "Saturday",
          "Saturday",
          "Saturday",
          "Sunday",
          "Sunday",
          "Sunday",
          "Monday",
          "Monday",
          "Monday",
          "Monday",
          "Monday"
         ],
         "xaxis": "x",
         "yaxis": "y"
        }
       ],
       "layout": {
        "barmode": "relative",
        "legend": {
         "tracegroupgap": 0
        },
        "template": {
         "data": {
          "bar": [
           {
            "error_x": {
             "color": "#2a3f5f"
            },
            "error_y": {
             "color": "#2a3f5f"
            },
            "marker": {
             "line": {
              "color": "white",
              "width": 0.5
             },
             "pattern": {
              "fillmode": "overlay",
              "size": 10,
              "solidity": 0.2
             }
            },
            "type": "bar"
           }
          ],
          "barpolar": [
           {
            "marker": {
             "line": {
              "color": "white",
              "width": 0.5
             },
             "pattern": {
              "fillmode": "overlay",
              "size": 10,
              "solidity": 0.2
             }
            },
            "type": "barpolar"
           }
          ],
          "carpet": [
           {
            "aaxis": {
             "endlinecolor": "#2a3f5f",
             "gridcolor": "#C8D4E3",
             "linecolor": "#C8D4E3",
             "minorgridcolor": "#C8D4E3",
             "startlinecolor": "#2a3f5f"
            },
            "baxis": {
             "endlinecolor": "#2a3f5f",
             "gridcolor": "#C8D4E3",
             "linecolor": "#C8D4E3",
             "minorgridcolor": "#C8D4E3",
             "startlinecolor": "#2a3f5f"
            },
            "type": "carpet"
           }
          ],
          "choropleth": [
           {
            "colorbar": {
             "outlinewidth": 0,
             "ticks": ""
            },
            "type": "choropleth"
           }
          ],
          "contour": [
           {
            "colorbar": {
             "outlinewidth": 0,
             "ticks": ""
            },
            "colorscale": [
             [
              0,
              "#0d0887"
             ],
             [
              0.1111111111111111,
              "#46039f"
             ],
             [
              0.2222222222222222,
              "#7201a8"
             ],
             [
              0.3333333333333333,
              "#9c179e"
             ],
             [
              0.4444444444444444,
              "#bd3786"
             ],
             [
              0.5555555555555556,
              "#d8576b"
             ],
             [
              0.6666666666666666,
              "#ed7953"
             ],
             [
              0.7777777777777778,
              "#fb9f3a"
             ],
             [
              0.8888888888888888,
              "#fdca26"
             ],
             [
              1,
              "#f0f921"
             ]
            ],
            "type": "contour"
           }
          ],
          "contourcarpet": [
           {
            "colorbar": {
             "outlinewidth": 0,
             "ticks": ""
            },
            "type": "contourcarpet"
           }
          ],
          "heatmap": [
           {
            "colorbar": {
             "outlinewidth": 0,
             "ticks": ""
            },
            "colorscale": [
             [
              0,
              "#0d0887"
             ],
             [
              0.1111111111111111,
              "#46039f"
             ],
             [
              0.2222222222222222,
              "#7201a8"
             ],
             [
              0.3333333333333333,
              "#9c179e"
             ],
             [
              0.4444444444444444,
              "#bd3786"
             ],
             [
              0.5555555555555556,
              "#d8576b"
             ],
             [
              0.6666666666666666,
              "#ed7953"
             ],
             [
              0.7777777777777778,
              "#fb9f3a"
             ],
             [
              0.8888888888888888,
              "#fdca26"
             ],
             [
              1,
              "#f0f921"
             ]
            ],
            "type": "heatmap"
           }
          ],
          "histogram": [
           {
            "marker": {
             "pattern": {
              "fillmode": "overlay",
              "size": 10,
              "solidity": 0.2
             }
            },
            "type": "histogram"
           }
          ],
          "histogram2d": [
           {
            "colorbar": {
             "outlinewidth": 0,
             "ticks": ""
            },
            "colorscale": [
             [
              0,
              "#0d0887"
             ],
             [
              0.1111111111111111,
              "#46039f"
             ],
             [
              0.2222222222222222,
              "#7201a8"
             ],
             [
              0.3333333333333333,
              "#9c179e"
             ],
             [
              0.4444444444444444,
              "#bd3786"
             ],
             [
              0.5555555555555556,
              "#d8576b"
             ],
             [
              0.6666666666666666,
              "#ed7953"
             ],
             [
              0.7777777777777778,
              "#fb9f3a"
             ],
             [
              0.8888888888888888,
              "#fdca26"
             ],
             [
              1,
              "#f0f921"
             ]
            ],
            "type": "histogram2d"
           }
          ],
          "histogram2dcontour": [
           {
            "colorbar": {
             "outlinewidth": 0,
             "ticks": ""
            },
            "colorscale": [
             [
              0,
              "#0d0887"
             ],
             [
              0.1111111111111111,
              "#46039f"
             ],
             [
              0.2222222222222222,
              "#7201a8"
             ],
             [
              0.3333333333333333,
              "#9c179e"
             ],
             [
              0.4444444444444444,
              "#bd3786"
             ],
             [
              0.5555555555555556,
              "#d8576b"
             ],
             [
              0.6666666666666666,
              "#ed7953"
             ],
             [
              0.7777777777777778,
              "#fb9f3a"
             ],
             [
              0.8888888888888888,
              "#fdca26"
             ],
             [
              1,
              "#f0f921"
             ]
            ],
            "type": "histogram2dcontour"
           }
          ],
          "mesh3d": [
           {
            "colorbar": {
             "outlinewidth": 0,
             "ticks": ""
            },
            "type": "mesh3d"
           }
          ],
          "parcoords": [
           {
            "line": {
             "colorbar": {
              "outlinewidth": 0,
              "ticks": ""
             }
            },
            "type": "parcoords"
           }
          ],
          "pie": [
           {
            "automargin": true,
            "type": "pie"
           }
          ],
          "scatter": [
           {
            "fillpattern": {
             "fillmode": "overlay",
             "size": 10,
             "solidity": 0.2
            },
            "type": "scatter"
           }
          ],
          "scatter3d": [
           {
            "line": {
             "colorbar": {
              "outlinewidth": 0,
              "ticks": ""
             }
            },
            "marker": {
             "colorbar": {
              "outlinewidth": 0,
              "ticks": ""
             }
            },
            "type": "scatter3d"
           }
          ],
          "scattercarpet": [
           {
            "marker": {
             "colorbar": {
              "outlinewidth": 0,
              "ticks": ""
             }
            },
            "type": "scattercarpet"
           }
          ],
          "scattergeo": [
           {
            "marker": {
             "colorbar": {
              "outlinewidth": 0,
              "ticks": ""
             }
            },
            "type": "scattergeo"
           }
          ],
          "scattergl": [
           {
            "marker": {
             "colorbar": {
              "outlinewidth": 0,
              "ticks": ""
             }
            },
            "type": "scattergl"
           }
          ],
          "scattermap": [
           {
            "marker": {
             "colorbar": {
              "outlinewidth": 0,
              "ticks": ""
             }
            },
            "type": "scattermap"
           }
          ],
          "scattermapbox": [
           {
            "marker": {
             "colorbar": {
              "outlinewidth": 0,
              "ticks": ""
             }
            },
            "type": "scattermapbox"
           }
          ],
          "scatterpolar": [
           {
            "marker": {
             "colorbar": {
              "outlinewidth": 0,
              "ticks": ""
             }
            },
            "type": "scatterpolar"
           }
          ],
          "scatterpolargl": [
           {
            "marker": {
             "colorbar": {
              "outlinewidth": 0,
              "ticks": ""
             }
            },
            "type": "scatterpolargl"
           }
          ],
          "scatterternary": [
           {
            "marker": {
             "colorbar": {
              "outlinewidth": 0,
              "ticks": ""
             }
            },
            "type": "scatterternary"
           }
          ],
          "surface": [
           {
            "colorbar": {
             "outlinewidth": 0,
             "ticks": ""
            },
            "colorscale": [
             [
              0,
              "#0d0887"
             ],
             [
              0.1111111111111111,
              "#46039f"
             ],
             [
              0.2222222222222222,
              "#7201a8"
             ],
             [
              0.3333333333333333,
              "#9c179e"
             ],
             [
              0.4444444444444444,
              "#bd3786"
             ],
             [
              0.5555555555555556,
              "#d8576b"
             ],
             [
              0.6666666666666666,
              "#ed7953"
             ],
             [
              0.7777777777777778,
              "#fb9f3a"
             ],
             [
              0.8888888888888888,
              "#fdca26"
             ],
             [
              1,
              "#f0f921"
             ]
            ],
            "type": "surface"
           }
          ],
          "table": [
           {
            "cells": {
             "fill": {
              "color": "#EBF0F8"
             },
             "line": {
              "color": "white"
             }
            },
            "header": {
             "fill": {
              "color": "#C8D4E3"
             },
             "line": {
              "color": "white"
             }
            },
            "type": "table"
           }
          ]
         },
         "layout": {
          "annotationdefaults": {
           "arrowcolor": "#2a3f5f",
           "arrowhead": 0,
           "arrowwidth": 1
          },
          "autotypenumbers": "strict",
          "coloraxis": {
           "colorbar": {
            "outlinewidth": 0,
            "ticks": ""
           }
          },
          "colorscale": {
           "diverging": [
            [
             0,
             "#8e0152"
            ],
            [
             0.1,
             "#c51b7d"
            ],
            [
             0.2,
             "#de77ae"
            ],
            [
             0.3,
             "#f1b6da"
            ],
            [
             0.4,
             "#fde0ef"
            ],
            [
             0.5,
             "#f7f7f7"
            ],
            [
             0.6,
             "#e6f5d0"
            ],
            [
             0.7,
             "#b8e186"
            ],
            [
             0.8,
             "#7fbc41"
            ],
            [
             0.9,
             "#4d9221"
            ],
            [
             1,
             "#276419"
            ]
           ],
           "sequential": [
            [
             0,
             "#0d0887"
            ],
            [
             0.1111111111111111,
             "#46039f"
            ],
            [
             0.2222222222222222,
             "#7201a8"
            ],
            [
             0.3333333333333333,
             "#9c179e"
            ],
            [
             0.4444444444444444,
             "#bd3786"
            ],
            [
             0.5555555555555556,
             "#d8576b"
            ],
            [
             0.6666666666666666,
             "#ed7953"
            ],
            [
             0.7777777777777778,
             "#fb9f3a"
            ],
            [
             0.8888888888888888,
             "#fdca26"
            ],
            [
             1,
             "#f0f921"
            ]
           ],
           "sequentialminus": [
            [
             0,
             "#0d0887"
            ],
            [
             0.1111111111111111,
             "#46039f"
            ],
            [
             0.2222222222222222,
             "#7201a8"
            ],
            [
             0.3333333333333333,
             "#9c179e"
            ],
            [
             0.4444444444444444,
             "#bd3786"
            ],
            [
             0.5555555555555556,
             "#d8576b"
            ],
            [
             0.6666666666666666,
             "#ed7953"
            ],
            [
             0.7777777777777778,
             "#fb9f3a"
            ],
            [
             0.8888888888888888,
             "#fdca26"
            ],
            [
             1,
             "#f0f921"
            ]
           ]
          },
          "colorway": [
           "#636efa",
           "#EF553B",
           "#00cc96",
           "#ab63fa",
           "#FFA15A",
           "#19d3f3",
           "#FF6692",
           "#B6E880",
           "#FF97FF",
           "#FECB52"
          ],
          "font": {
           "color": "#2a3f5f"
          },
          "geo": {
           "bgcolor": "white",
           "lakecolor": "white",
           "landcolor": "white",
           "showlakes": true,
           "showland": true,
           "subunitcolor": "#C8D4E3"
          },
          "hoverlabel": {
           "align": "left"
          },
          "hovermode": "closest",
          "mapbox": {
           "style": "light"
          },
          "paper_bgcolor": "white",
          "plot_bgcolor": "white",
          "polar": {
           "angularaxis": {
            "gridcolor": "#EBF0F8",
            "linecolor": "#EBF0F8",
            "ticks": ""
           },
           "bgcolor": "white",
           "radialaxis": {
            "gridcolor": "#EBF0F8",
            "linecolor": "#EBF0F8",
            "ticks": ""
           }
          },
          "scene": {
           "xaxis": {
            "backgroundcolor": "white",
            "gridcolor": "#DFE8F3",
            "gridwidth": 2,
            "linecolor": "#EBF0F8",
            "showbackground": true,
            "ticks": "",
            "zerolinecolor": "#EBF0F8"
           },
           "yaxis": {
            "backgroundcolor": "white",
            "gridcolor": "#DFE8F3",
            "gridwidth": 2,
            "linecolor": "#EBF0F8",
            "showbackground": true,
            "ticks": "",
            "zerolinecolor": "#EBF0F8"
           },
           "zaxis": {
            "backgroundcolor": "white",
            "gridcolor": "#DFE8F3",
            "gridwidth": 2,
            "linecolor": "#EBF0F8",
            "showbackground": true,
            "ticks": "",
            "zerolinecolor": "#EBF0F8"
           }
          },
          "shapedefaults": {
           "line": {
            "color": "#2a3f5f"
           }
          },
          "ternary": {
           "aaxis": {
            "gridcolor": "#DFE8F3",
            "linecolor": "#A2B1C6",
            "ticks": ""
           },
           "baxis": {
            "gridcolor": "#DFE8F3",
            "linecolor": "#A2B1C6",
            "ticks": ""
           },
           "bgcolor": "white",
           "caxis": {
            "gridcolor": "#DFE8F3",
            "linecolor": "#A2B1C6",
            "ticks": ""
           }
          },
          "title": {
           "x": 0.05
          },
          "xaxis": {
           "automargin": true,
           "gridcolor": "#EBF0F8",
           "linecolor": "#EBF0F8",
           "ticks": "",
           "title": {
            "standoff": 15
           },
           "zerolinecolor": "#EBF0F8",
           "zerolinewidth": 2
          },
          "yaxis": {
           "automargin": true,
           "gridcolor": "#EBF0F8",
           "linecolor": "#EBF0F8",
           "ticks": "",
           "title": {
            "standoff": 15
           },
           "zerolinecolor": "#EBF0F8",
           "zerolinewidth": 2
          }
         }
        },
        "title": {
         "text": "week rides"
        },
        "xaxis": {
         "anchor": "y",
         "domain": [
          0,
          1
         ],
         "title": {
          "text": "day"
         }
        },
        "yaxis": {
         "anchor": "x",
         "domain": [
          0,
          1
         ],
         "title": {
          "text": "count"
         }
        }
       }
      }
     },
     "metadata": {},
     "output_type": "display_data"
    }
   ],
   "source": [
    "fig=px.histogram(data, x='day', title='week rides')\n",
    "fig.show()"
   ]
  },
  {
   "cell_type": "markdown",
   "id": "793dff0d",
   "metadata": {},
   "source": [
    "Ans6. how many miles do people usually book a cab for through uber."
   ]
  },
  {
   "cell_type": "code",
   "execution_count": 91,
   "id": "ad13848d",
   "metadata": {},
   "outputs": [
    {
     "data": {
      "application/vnd.plotly.v1+json": {
       "config": {
        "plotlyServerURL": "https://plot.ly"
       },
       "data": [
        {
         "bingroup": "x",
         "hovertemplate": "MILES=%{x}<br>count=%{y}<extra></extra>",
         "legendgroup": "",
         "marker": {
          "color": "rgb(229, 134, 6)",
          "pattern": {
           "shape": ""
          }
         },
         "name": "",
         "orientation": "v",
         "showlegend": false,
         "type": "histogram",
         "x": {
          "bdata": "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",
          "dtype": "f8"
         },
         "xaxis": "x",
         "yaxis": "y"
        }
       ],
       "layout": {
        "barmode": "relative",
        "legend": {
         "tracegroupgap": 0
        },
        "template": {
         "data": {
          "bar": [
           {
            "error_x": {
             "color": "#2a3f5f"
            },
            "error_y": {
             "color": "#2a3f5f"
            },
            "marker": {
             "line": {
              "color": "white",
              "width": 0.5
             },
             "pattern": {
              "fillmode": "overlay",
              "size": 10,
              "solidity": 0.2
             }
            },
            "type": "bar"
           }
          ],
          "barpolar": [
           {
            "marker": {
             "line": {
              "color": "white",
              "width": 0.5
             },
             "pattern": {
              "fillmode": "overlay",
              "size": 10,
              "solidity": 0.2
             }
            },
            "type": "barpolar"
           }
          ],
          "carpet": [
           {
            "aaxis": {
             "endlinecolor": "#2a3f5f",
             "gridcolor": "#C8D4E3",
             "linecolor": "#C8D4E3",
             "minorgridcolor": "#C8D4E3",
             "startlinecolor": "#2a3f5f"
            },
            "baxis": {
             "endlinecolor": "#2a3f5f",
             "gridcolor": "#C8D4E3",
             "linecolor": "#C8D4E3",
             "minorgridcolor": "#C8D4E3",
             "startlinecolor": "#2a3f5f"
            },
            "type": "carpet"
           }
          ],
          "choropleth": [
           {
            "colorbar": {
             "outlinewidth": 0,
             "ticks": ""
            },
            "type": "choropleth"
           }
          ],
          "contour": [
           {
            "colorbar": {
             "outlinewidth": 0,
             "ticks": ""
            },
            "colorscale": [
             [
              0,
              "#0d0887"
             ],
             [
              0.1111111111111111,
              "#46039f"
             ],
             [
              0.2222222222222222,
              "#7201a8"
             ],
             [
              0.3333333333333333,
              "#9c179e"
             ],
             [
              0.4444444444444444,
              "#bd3786"
             ],
             [
              0.5555555555555556,
              "#d8576b"
             ],
             [
              0.6666666666666666,
              "#ed7953"
             ],
             [
              0.7777777777777778,
              "#fb9f3a"
             ],
             [
              0.8888888888888888,
              "#fdca26"
             ],
             [
              1,
              "#f0f921"
             ]
            ],
            "type": "contour"
           }
          ],
          "contourcarpet": [
           {
            "colorbar": {
             "outlinewidth": 0,
             "ticks": ""
            },
            "type": "contourcarpet"
           }
          ],
          "heatmap": [
           {
            "colorbar": {
             "outlinewidth": 0,
             "ticks": ""
            },
            "colorscale": [
             [
              0,
              "#0d0887"
             ],
             [
              0.1111111111111111,
              "#46039f"
             ],
             [
              0.2222222222222222,
              "#7201a8"
             ],
             [
              0.3333333333333333,
              "#9c179e"
             ],
             [
              0.4444444444444444,
              "#bd3786"
             ],
             [
              0.5555555555555556,
              "#d8576b"
             ],
             [
              0.6666666666666666,
              "#ed7953"
             ],
             [
              0.7777777777777778,
              "#fb9f3a"
             ],
             [
              0.8888888888888888,
              "#fdca26"
             ],
             [
              1,
              "#f0f921"
             ]
            ],
            "type": "heatmap"
           }
          ],
          "histogram": [
           {
            "marker": {
             "pattern": {
              "fillmode": "overlay",
              "size": 10,
              "solidity": 0.2
             }
            },
            "type": "histogram"
           }
          ],
          "histogram2d": [
           {
            "colorbar": {
             "outlinewidth": 0,
             "ticks": ""
            },
            "colorscale": [
             [
              0,
              "#0d0887"
             ],
             [
              0.1111111111111111,
              "#46039f"
             ],
             [
              0.2222222222222222,
              "#7201a8"
             ],
             [
              0.3333333333333333,
              "#9c179e"
             ],
             [
              0.4444444444444444,
              "#bd3786"
             ],
             [
              0.5555555555555556,
              "#d8576b"
             ],
             [
              0.6666666666666666,
              "#ed7953"
             ],
             [
              0.7777777777777778,
              "#fb9f3a"
             ],
             [
              0.8888888888888888,
              "#fdca26"
             ],
             [
              1,
              "#f0f921"
             ]
            ],
            "type": "histogram2d"
           }
          ],
          "histogram2dcontour": [
           {
            "colorbar": {
             "outlinewidth": 0,
             "ticks": ""
            },
            "colorscale": [
             [
              0,
              "#0d0887"
             ],
             [
              0.1111111111111111,
              "#46039f"
             ],
             [
              0.2222222222222222,
              "#7201a8"
             ],
             [
              0.3333333333333333,
              "#9c179e"
             ],
             [
              0.4444444444444444,
              "#bd3786"
             ],
             [
              0.5555555555555556,
              "#d8576b"
             ],
             [
              0.6666666666666666,
              "#ed7953"
             ],
             [
              0.7777777777777778,
              "#fb9f3a"
             ],
             [
              0.8888888888888888,
              "#fdca26"
             ],
             [
              1,
              "#f0f921"
             ]
            ],
            "type": "histogram2dcontour"
           }
          ],
          "mesh3d": [
           {
            "colorbar": {
             "outlinewidth": 0,
             "ticks": ""
            },
            "type": "mesh3d"
           }
          ],
          "parcoords": [
           {
            "line": {
             "colorbar": {
              "outlinewidth": 0,
              "ticks": ""
             }
            },
            "type": "parcoords"
           }
          ],
          "pie": [
           {
            "automargin": true,
            "type": "pie"
           }
          ],
          "scatter": [
           {
            "fillpattern": {
             "fillmode": "overlay",
             "size": 10,
             "solidity": 0.2
            },
            "type": "scatter"
           }
          ],
          "scatter3d": [
           {
            "line": {
             "colorbar": {
              "outlinewidth": 0,
              "ticks": ""
             }
            },
            "marker": {
             "colorbar": {
              "outlinewidth": 0,
              "ticks": ""
             }
            },
            "type": "scatter3d"
           }
          ],
          "scattercarpet": [
           {
            "marker": {
             "colorbar": {
              "outlinewidth": 0,
              "ticks": ""
             }
            },
            "type": "scattercarpet"
           }
          ],
          "scattergeo": [
           {
            "marker": {
             "colorbar": {
              "outlinewidth": 0,
              "ticks": ""
             }
            },
            "type": "scattergeo"
           }
          ],
          "scattergl": [
           {
            "marker": {
             "colorbar": {
              "outlinewidth": 0,
              "ticks": ""
             }
            },
            "type": "scattergl"
           }
          ],
          "scattermap": [
           {
            "marker": {
             "colorbar": {
              "outlinewidth": 0,
              "ticks": ""
             }
            },
            "type": "scattermap"
           }
          ],
          "scattermapbox": [
           {
            "marker": {
             "colorbar": {
              "outlinewidth": 0,
              "ticks": ""
             }
            },
            "type": "scattermapbox"
           }
          ],
          "scatterpolar": [
           {
            "marker": {
             "colorbar": {
              "outlinewidth": 0,
              "ticks": ""
             }
            },
            "type": "scatterpolar"
           }
          ],
          "scatterpolargl": [
           {
            "marker": {
             "colorbar": {
              "outlinewidth": 0,
              "ticks": ""
             }
            },
            "type": "scatterpolargl"
           }
          ],
          "scatterternary": [
           {
            "marker": {
             "colorbar": {
              "outlinewidth": 0,
              "ticks": ""
             }
            },
            "type": "scatterternary"
           }
          ],
          "surface": [
           {
            "colorbar": {
             "outlinewidth": 0,
             "ticks": ""
            },
            "colorscale": [
             [
              0,
              "#0d0887"
             ],
             [
              0.1111111111111111,
              "#46039f"
             ],
             [
              0.2222222222222222,
              "#7201a8"
             ],
             [
              0.3333333333333333,
              "#9c179e"
             ],
             [
              0.4444444444444444,
              "#bd3786"
             ],
             [
              0.5555555555555556,
              "#d8576b"
             ],
             [
              0.6666666666666666,
              "#ed7953"
             ],
             [
              0.7777777777777778,
              "#fb9f3a"
             ],
             [
              0.8888888888888888,
              "#fdca26"
             ],
             [
              1,
              "#f0f921"
             ]
            ],
            "type": "surface"
           }
          ],
          "table": [
           {
            "cells": {
             "fill": {
              "color": "#EBF0F8"
             },
             "line": {
              "color": "white"
             }
            },
            "header": {
             "fill": {
              "color": "#C8D4E3"
             },
             "line": {
              "color": "white"
             }
            },
            "type": "table"
           }
          ]
         },
         "layout": {
          "annotationdefaults": {
           "arrowcolor": "#2a3f5f",
           "arrowhead": 0,
           "arrowwidth": 1
          },
          "autotypenumbers": "strict",
          "coloraxis": {
           "colorbar": {
            "outlinewidth": 0,
            "ticks": ""
           }
          },
          "colorscale": {
           "diverging": [
            [
             0,
             "#8e0152"
            ],
            [
             0.1,
             "#c51b7d"
            ],
            [
             0.2,
             "#de77ae"
            ],
            [
             0.3,
             "#f1b6da"
            ],
            [
             0.4,
             "#fde0ef"
            ],
            [
             0.5,
             "#f7f7f7"
            ],
            [
             0.6,
             "#e6f5d0"
            ],
            [
             0.7,
             "#b8e186"
            ],
            [
             0.8,
             "#7fbc41"
            ],
            [
             0.9,
             "#4d9221"
            ],
            [
             1,
             "#276419"
            ]
           ],
           "sequential": [
            [
             0,
             "#0d0887"
            ],
            [
             0.1111111111111111,
             "#46039f"
            ],
            [
             0.2222222222222222,
             "#7201a8"
            ],
            [
             0.3333333333333333,
             "#9c179e"
            ],
            [
             0.4444444444444444,
             "#bd3786"
            ],
            [
             0.5555555555555556,
             "#d8576b"
            ],
            [
             0.6666666666666666,
             "#ed7953"
            ],
            [
             0.7777777777777778,
             "#fb9f3a"
            ],
            [
             0.8888888888888888,
             "#fdca26"
            ],
            [
             1,
             "#f0f921"
            ]
           ],
           "sequentialminus": [
            [
             0,
             "#0d0887"
            ],
            [
             0.1111111111111111,
             "#46039f"
            ],
            [
             0.2222222222222222,
             "#7201a8"
            ],
            [
             0.3333333333333333,
             "#9c179e"
            ],
            [
             0.4444444444444444,
             "#bd3786"
            ],
            [
             0.5555555555555556,
             "#d8576b"
            ],
            [
             0.6666666666666666,
             "#ed7953"
            ],
            [
             0.7777777777777778,
             "#fb9f3a"
            ],
            [
             0.8888888888888888,
             "#fdca26"
            ],
            [
             1,
             "#f0f921"
            ]
           ]
          },
          "colorway": [
           "#636efa",
           "#EF553B",
           "#00cc96",
           "#ab63fa",
           "#FFA15A",
           "#19d3f3",
           "#FF6692",
           "#B6E880",
           "#FF97FF",
           "#FECB52"
          ],
          "font": {
           "color": "#2a3f5f"
          },
          "geo": {
           "bgcolor": "white",
           "lakecolor": "white",
           "landcolor": "white",
           "showlakes": true,
           "showland": true,
           "subunitcolor": "#C8D4E3"
          },
          "hoverlabel": {
           "align": "left"
          },
          "hovermode": "closest",
          "mapbox": {
           "style": "light"
          },
          "paper_bgcolor": "white",
          "plot_bgcolor": "white",
          "polar": {
           "angularaxis": {
            "gridcolor": "#EBF0F8",
            "linecolor": "#EBF0F8",
            "ticks": ""
           },
           "bgcolor": "white",
           "radialaxis": {
            "gridcolor": "#EBF0F8",
            "linecolor": "#EBF0F8",
            "ticks": ""
           }
          },
          "scene": {
           "xaxis": {
            "backgroundcolor": "white",
            "gridcolor": "#DFE8F3",
            "gridwidth": 2,
            "linecolor": "#EBF0F8",
            "showbackground": true,
            "ticks": "",
            "zerolinecolor": "#EBF0F8"
           },
           "yaxis": {
            "backgroundcolor": "white",
            "gridcolor": "#DFE8F3",
            "gridwidth": 2,
            "linecolor": "#EBF0F8",
            "showbackground": true,
            "ticks": "",
            "zerolinecolor": "#EBF0F8"
           },
           "zaxis": {
            "backgroundcolor": "white",
            "gridcolor": "#DFE8F3",
            "gridwidth": 2,
            "linecolor": "#EBF0F8",
            "showbackground": true,
            "ticks": "",
            "zerolinecolor": "#EBF0F8"
           }
          },
          "shapedefaults": {
           "line": {
            "color": "#2a3f5f"
           }
          },
          "ternary": {
           "aaxis": {
            "gridcolor": "#DFE8F3",
            "linecolor": "#A2B1C6",
            "ticks": ""
           },
           "baxis": {
            "gridcolor": "#DFE8F3",
            "linecolor": "#A2B1C6",
            "ticks": ""
           },
           "bgcolor": "white",
           "caxis": {
            "gridcolor": "#DFE8F3",
            "linecolor": "#A2B1C6",
            "ticks": ""
           }
          },
          "title": {
           "x": 0.05
          },
          "xaxis": {
           "automargin": true,
           "gridcolor": "#EBF0F8",
           "linecolor": "#EBF0F8",
           "ticks": "",
           "title": {
            "standoff": 15
           },
           "zerolinecolor": "#EBF0F8",
           "zerolinewidth": 2
          },
          "yaxis": {
           "automargin": true,
           "gridcolor": "#EBF0F8",
           "linecolor": "#EBF0F8",
           "ticks": "",
           "title": {
            "standoff": 15
           },
           "zerolinecolor": "#EBF0F8",
           "zerolinewidth": 2
          }
         }
        },
        "title": {
         "text": "MILES"
        },
        "xaxis": {
         "anchor": "y",
         "domain": [
          0,
          1
         ],
         "title": {
          "text": "MILES"
         }
        },
        "yaxis": {
         "anchor": "x",
         "domain": [
          0,
          1
         ],
         "title": {
          "text": "count"
         }
        }
       }
      }
     },
     "metadata": {},
     "output_type": "display_data"
    }
   ],
   "source": [
    "limit_data=data[(data['MILES']<=100 )]\n",
    "fig=px.histogram(limit_data, x='MILES', title='MILES', color_discrete_sequence=px.colors.qualitative.Vivid)\n",
    "fig.show()"
   ]
  },
  {
   "cell_type": "markdown",
   "id": "e01633e0",
   "metadata": {},
   "source": [
    "Ans1. Business category do people book the most uber rides.\n",
    "\n",
    "Ans2.Meeting purpose do people book uber rides the most.\n",
    "\n",
    "Ans3. Afternoon time do people book cabs the most from uber.\n",
    "\n",
    "Ans4. September month do people book uber rides less frequently.\n",
    "\n",
    "Ans5. Friday days of the week do people book uber rides the most.\n",
    "\n",
    "Ans6. 0-20 miles do people usually book a cab for through uber."
   ]
  },
  {
   "cell_type": "markdown",
   "id": "61709ec4",
   "metadata": {},
   "source": [
    "business category->meeting purpose-->afternoon time-->Friday-->0-20 miles we need most driver online which have businessman releted car"
   ]
  }
 ],
 "metadata": {
  "kernelspec": {
   "display_name": "Python 3",
   "language": "python",
   "name": "python3"
  },
  "language_info": {
   "codemirror_mode": {
    "name": "ipython",
    "version": 3
   },
   "file_extension": ".py",
   "mimetype": "text/x-python",
   "name": "python",
   "nbconvert_exporter": "python",
   "pygments_lexer": "ipython3",
   "version": "3.13.7"
  }
 },
 "nbformat": 4,
 "nbformat_minor": 5
}
